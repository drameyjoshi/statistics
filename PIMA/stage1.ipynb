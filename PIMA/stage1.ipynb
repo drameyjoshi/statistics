{
 "cells": [
  {
   "cell_type": "markdown",
   "metadata": {},
   "source": [
    "# Data"
   ]
  },
  {
   "cell_type": "markdown",
   "metadata": {},
   "source": [
    "Read in the three files: clients.csv, loans.csv, payments.csv. These files are related by the following:\n",
    "1. The clients file is the parent of the loans file. Each client can have multiple distinct loans. The client_id column links the two files\n",
    "2. The loans file is the child of the clients file and the parent of the payments file. Each loan can have multiple distinct payments associated with it. The loan_id column links the two files."
   ]
  },
  {
   "cell_type": "code",
   "execution_count": null,
   "metadata": {},
   "outputs": [],
   "source": [
    "# Import basic packages.\n",
    "import matplotlib.pyplot as plt\n",
    "import numpy as np\n",
    "import pandas as pd"
   ]
  },
  {
   "cell_type": "code",
   "execution_count": null,
   "metadata": {},
   "outputs": [],
   "source": [
    "# Read the data sets into data frames.\n",
    "clients = pd.read_csv('clients.csv')\n",
    "loans = pd.read_csv('loans.csv')\n",
    "payments = pd.read_csv('payments.csv')"
   ]
  },
  {
   "cell_type": "code",
   "execution_count": null,
   "metadata": {},
   "outputs": [],
   "source": [
    "# Quick check of the structure of the data.\n",
    "clients.info()\n",
    "loans.info()\n",
    "payments.info()\n"
   ]
  },
  {
   "cell_type": "code",
   "execution_count": null,
   "metadata": {},
   "outputs": [],
   "source": [
    "print(clients.shape)\n",
    "print(loans.shape)\n",
    "print(payments.shape)"
   ]
  },
  {
   "cell_type": "markdown",
   "metadata": {},
   "source": [
    "With the above datasets, answer the following questions. Show the steps taken to produce your final answer."
   ]
  },
  {
   "cell_type": "markdown",
   "metadata": {},
   "source": [
    "# Section 1 Questions"
   ]
  },
  {
   "cell_type": "markdown",
   "metadata": {},
   "source": [
    "1. Give the 5 client IDs with the highest mean payment amount\n",
    "2. How many unique loans have been given out to clients who joined prior to 2001?\n",
    "3. What is the mean number of payments missed by clients with a credit score of less than 700 and who have missed more than 50 payments?"
   ]
  },
  {
   "cell_type": "code",
   "execution_count": null,
   "metadata": {},
   "outputs": [],
   "source": [
    "# loan_ids with highest mean payment amount.\n",
    "highest_loan_ids = payments[['loan_id', 'payment_amount']]. \\\n",
    "                   groupby('loan_id'). \\\n",
    "                   mean(). \\\n",
    "                   sort_values(ascending=False, by='payment_amount'). \\\n",
    "                   head(5)\n",
    "# Client ids with top 5 mean payment amount.\n",
    "pd.merge(highest_loan_ids, loans, on='loan_id')['client_id']"
   ]
  },
  {
   "cell_type": "code",
   "execution_count": null,
   "metadata": {},
   "outputs": [],
   "source": [
    "# Convert the attribute 'joined' in the dataframe clients in datatime format.\n",
    "clients['joined'] = pd.to_datetime(clients['joined'])\n",
    "clients_prior_to_2001 = clients.loc[clients['joined'].dt.year <= 2001]['client_id']\n",
    "pd.merge(clients_prior_to_2001, loans, on='client_id')"
   ]
  },
  {
   "cell_type": "markdown",
   "metadata": {},
   "source": [
    "# Section 2 Questions"
   ]
  },
  {
   "cell_type": "code",
   "execution_count": null,
   "metadata": {},
   "outputs": [],
   "source": [
    "# Clients with credit score < 700.\n",
    "clients_poor_cs = clients.loc[clients['credit_score'] < 700]['client_id']\n",
    "# Loan ids of these clients.\n",
    "loan_ids_poor_cs = pd.merge(clients_poor_cs, loans, on='client_id')[['client_id', 'loan_id']]\n",
    "# Payment details of these clients.\n",
    "payments_poor_cs = pd.merge(loan_ids_poor_cs, payments, on='loan_id')\n",
    "# Get count of missed payments by client.\n",
    "missed_payments = payments_poor_cs.loc[payments_poor_cs['missed'] == 1].groupby('client_id').count()['missed']\n",
    "# Get the mean number of missed payments where the missed count > 50. \n",
    "missed_payments[missed_payments > 50].mean()\n"
   ]
  },
  {
   "cell_type": "markdown",
   "metadata": {},
   "source": [
    "Create the following visualizations:\n",
    "    \n",
    "1. Create a histogram of the payment amounts. Briefly describe the distribution.\n",
    "2. Produce a line plot the cumulative sum of the number of clients by year.\n",
    "3. Produce a scatter plot of the percentage of payments missed in december for each year in the dataset."
   ]
  },
  {
   "cell_type": "code",
   "execution_count": null,
   "metadata": {},
   "outputs": [],
   "source": [
    "payments['payment_amount'].hist()"
   ]
  },
  {
   "cell_type": "code",
   "execution_count": null,
   "metadata": {},
   "outputs": [],
   "source": [
    "clients['joined_year'] = clients['joined'].dt.year\n",
    "ax = clients[['client_id', 'joined_year']].groupby('joined_year').count().cumsum().reset_index().plot('joined_year', 'client_id')\n",
    "ax.set_xlabel('year')\n",
    "ax.set_ylabel('# clients')\n",
    "ax.set_title('Cumulative sum of clients by year')\n"
   ]
  },
  {
   "cell_type": "code",
   "execution_count": null,
   "metadata": {},
   "outputs": [],
   "source": [
    "payments['payment_date'] = pd.to_datetime(payments['payment_date'])\n",
    "payments['payment_year'] = payments['payment_date'].dt.year\n",
    "payments['payment_month'] = payments['payment_date'].dt.month\n",
    "dec_count = payments.loc[payments['payment_month'] == 12][['loan_id', 'payment_year']].groupby('payment_year').count().rename(columns={'loan_id': 'n_loans'}).reset_index()\n",
    "#\n",
    "dec_missed_count = payments.loc[((payments['payment_month'] == 12) & (payments['missed'] == 1))][['loan_id', 'payment_year']].groupby('payment_year').count().rename(columns={'loan_id': 'n_loans_missed'}).reset_index()\n",
    "\n",
    "X = pd.merge(dec_count, dec_missed_count, on='payment_year')\n",
    "X['pct_missed'] = round(X['n_loans_missed']/X['n_loans'] * 100, 2)\n",
    "ax = X.plot('payment_year', 'pct_missed')\n",
    "ax.set_xlabel('year')\n",
    "ax.set_ylabel('% missed')\n",
    "ax.set_title('Percentage of payments missed in December')"
   ]
  },
  {
   "cell_type": "markdown",
   "metadata": {},
   "source": [
    "# Section 3 - Modelling"
   ]
  },
  {
   "cell_type": "markdown",
   "metadata": {},
   "source": [
    "Create a model that will predict whether a person does or does not have diabetes. Use the diabetes.csv dataset. The target column in the dataset is \"Outcome\". Assume no features leak information about the target.\n",
    "\n",
    "Your solution should include the below. You may use whichever python libraries you wish to complete the task:\n",
    "1. Feature engineering\n",
    "2. Model fitting and performance evaluation\n",
    "3. A function that takes as arguments: a model, train data, test data, and returns the model's predictions on the test data\n",
    "4. A function that takes a set of predictions and true values and that validates the predictions using appropriate metrics\n",
    "5. Anything else you feel is necessary for modelling or improving the performance of your model\n",
    "\n",
    "\n",
    "__This exercise is intended for you to show your proficiency in machine learning, understanding of the various techniques that can be employed to improve the performance of a model, and your ability to implement those techniques. Please, therefore, show your working at all times. You will be judged more for the above than for the performance of the final model your produce.__"
   ]
  }
 ],
 "metadata": {
  "kernelspec": {
   "display_name": "Python 3 (ipykernel)",
   "language": "python",
   "name": "python3"
  },
  "language_info": {
   "codemirror_mode": {
    "name": "ipython",
    "version": 3
   },
   "file_extension": ".py",
   "mimetype": "text/x-python",
   "name": "python",
   "nbconvert_exporter": "python",
   "pygments_lexer": "ipython3",
   "version": "3.12.4"
  }
 },
 "nbformat": 4,
 "nbformat_minor": 4
}
