{
 "cells": [
  {
   "cell_type": "code",
   "execution_count": 3,
   "id": "2e4ad2d8-0f2f-4a78-8f8a-0b25cd37ba04",
   "metadata": {},
   "outputs": [],
   "source": [
    "import os\n",
    "import pandas as pd\n",
    "from pathlib import Path"
   ]
  },
  {
   "cell_type": "code",
   "execution_count": 4,
   "id": "54267779-911d-4a62-86d0-c5f9ddd5ffa1",
   "metadata": {},
   "outputs": [
    {
     "name": "stdout",
     "output_type": "stream",
     "text": [
      "All files are available.\n"
     ]
    }
   ],
   "source": [
    "colnames = [\n",
    "    'State_Name',\n",
    "    'Constituency_No',\n",
    "    'Year',\n",
    "    'Position',\n",
    "    'Candidate',\n",
    "    'Party',\n",
    "    'Age',\n",
    "    'Constituency_Name',\n",
    "    'Vote_Share_Percentage',\n",
    "    'Turncoat',\n",
    "    'MyNeta_education',\n",
    "    'TCPD_Prof_Main',\n",
    "]\n",
    "\n",
    "dirname = '/home/amey/mihir/from_source'\n",
    "filelist = [\n",
    "    'TCPD_AE_Andhra_Pradesh_2024-12-23.csv',\n",
    "    'TCPD_AE_Bihar_2024-12-23.csv',\n",
    "    'TCPD_AE_Chhattisgarh_2024-12-23.csv',\n",
    "    'TCPD_AE_Gujarat_2024-12-23.csv',\n",
    "    'TCPD_AE_Haryana_2024-12-23.csv',\n",
    "    'TCPD_AE_Karnataka_2024-12-23.csv',\n",
    "    'TCPD_AE_Kerala_2024-12-23.csv',\n",
    "    'TCPD_AE_Madhya_Pradesh_2024-12-23.csv',\n",
    "    'TCPD_AE_Maharashtra_2024-12-23.csv',\n",
    "    'TCPD_AE_Punjab_2024-12-23.csv',\n",
    "    'TCPD_AE_Rajasthan_2024-12-23.csv',\n",
    "    'TCPD_AE_Tamil_Nadu_2024-12-23.csv',\n",
    "    'TCPD_AE_Telangana_2024-12-23.csv',\n",
    "    'TCPD_AE_Uttar_Pradesh_2024-12-23.csv',\n",
    "    'TCPD_AE_West_Bengal_2024-12-23.csv',\n",
    "]\n",
    "files_readable = [os.path.exists(os.path.join(dirname, f)) for f in filelist]\n",
    "if all(files_readable):\n",
    "    print('All files are available.')\n",
    "else:\n",
    "    print('Some files are not available.')"
   ]
  },
  {
   "cell_type": "code",
   "execution_count": 7,
   "id": "b2ea9ba4-defc-4bcf-b321-e8842899100c",
   "metadata": {},
   "outputs": [],
   "source": [
    "def process(pathname: str) -> None:\n",
    "    raw_data = pd.read_csv(pathname, low_memory=False, encoding='iso-8859-1')\n",
    "    data = raw_data[(raw_data['Year'] >= 2000) & (raw_data['Position'] == 1)][colnames]\n",
    "    \n",
    "    if 'Andhra' in pathname or 'Telangana' in pathname:\n",
    "        data['seq'] = data.groupby('Constituency_Name')['Year'].rank('dense')\n",
    "        winners = data[['Constituency_Name', 'Year', 'Party', 'Position']][data['Position'] == 1].sort_values(by=['Constituency_Name', 'Year'], ascending=False)\n",
    "        winners['prev_winning_party'] = winners.groupby('Constituency_Name')['Party'].shift(-1)\n",
    "        data_1 = data.merge(winners[['Constituency_Name', 'Year', 'prev_winning_party']], on=['Constituency_Name', 'Year'], how='left')\n",
    "    else:\n",
    "        data['seq'] = data.groupby('Constituency_No')['Year'].rank('dense')\n",
    "        winners = data[['Constituency_No', 'Year', 'Party', 'Position']][data['Position'] == 1].sort_values(by=['Constituency_No', 'Year'], ascending=False)\n",
    "        winners['prev_winning_party'] = winners.groupby('Constituency_No')['Party'].shift(-1)\n",
    "        data_1 = data.merge(winners[['Constituency_No', 'Year', 'prev_winning_party']], on=['Constituency_No', 'Year'], how='left')\n",
    "        \n",
    "    data_1['flag'] = data_1['Party'] == data_1['prev_winning_party']\n",
    "    basename = Path(pathname).stem\n",
    "    newname = basename.replace('TCPD_AE_', '').replace('_2024-12-23', '') + '_processed.csv'\n",
    "    data_1.drop_duplicates().to_csv(newname)"
   ]
  },
  {
   "cell_type": "code",
   "execution_count": 8,
   "id": "6ab2ae3c-b3a5-4117-a0a1-0a5ded4207ca",
   "metadata": {},
   "outputs": [],
   "source": [
    "_ = [process(os.path.join(dirname, f)) for f in filelist]"
   ]
  }
 ],
 "metadata": {
  "kernelspec": {
   "display_name": "Python 3 (ipykernel)",
   "language": "python",
   "name": "python3"
  },
  "language_info": {
   "codemirror_mode": {
    "name": "ipython",
    "version": 3
   },
   "file_extension": ".py",
   "mimetype": "text/x-python",
   "name": "python",
   "nbconvert_exporter": "python",
   "pygments_lexer": "ipython3",
   "version": "3.12.3"
  }
 },
 "nbformat": 4,
 "nbformat_minor": 5
}
