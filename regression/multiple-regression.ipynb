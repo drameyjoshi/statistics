{
 "cells": [
  {
   "cell_type": "code",
   "execution_count": null,
   "id": "3d50e15d-ba15-4b13-a3fd-4d4cb05a99bd",
   "metadata": {},
   "outputs": [],
   "source": [
    "import os\n",
    "import numpy as np\n",
    "import scipy\n",
    "import pandas as pd\n",
    "import matplotlib.pyplot as plt\n",
    "import statsmodels.api as sm\n",
    "import statsmodels.formula.api as smf"
   ]
  },
  {
   "cell_type": "markdown",
   "id": "1f2823e1-cdf7-4f71-a5b4-cc60441206a6",
   "metadata": {},
   "source": [
    "$$\n",
    "\\newcommand{\\cor}{\\text{Cor}}\n",
    "\\newcommand{\\var}{\\text{Var}}\n",
    "\\newcommand{\\cov}{\\text{Cov}}\n",
    "\\newcommand{E}{\\text{E}}\n",
    "$$"
   ]
  },
  {
   "cell_type": "code",
   "execution_count": null,
   "id": "c12eb47c-abeb-473a-b7a2-087c4acfc68d",
   "metadata": {},
   "outputs": [],
   "source": [
    "filename = 'diamond.csv'\n",
    "pathname = os.path.join('.', 'datasets', filename)\n",
    "if os.path.isfile(pathname):\n",
    "    df = pd.read_csv(pathname)\n",
    "else:\n",
    "    assert False"
   ]
  },
  {
   "cell_type": "markdown",
   "id": "c26c8e5a-0ac4-4366-ad08-fe0903618035",
   "metadata": {},
   "source": [
    "# An alternative way to look at OLS"
   ]
  },
  {
   "cell_type": "markdown",
   "id": "780062fc-bac0-442e-b32a-1238b00aa2db",
   "metadata": {},
   "source": [
    "Before we proceed to the study of multiple regressions, let us cast the results of regression with one independent variable in a slightly different light. Recall that the regression model for a single independent variable is $Y_i = \\beta_0 + \\beta_1 X_i + \\epsilon_i$. If the fitted model gives $\\hat{Y}_i = \\hat{\\beta}_0 + \\hat{\\beta}_1 X_i$ then the residual of $Y_i$ is $e_i = Y_i - \\bar{Y}_i$. Further,\n",
    "$$\n",
    "\\begin{eqnarray}\n",
    "\\hat{\\beta}_1 &=& \\cor(X, Y)\\frac{S_Y}{S_X} \\\\\n",
    "\\hat{\\beta}_0 &=& \\bar{Y} - \\hat{\\beta}_1\\bar{X}\n",
    "\\end{eqnarray}\n",
    "$$\n",
    "If there is no $\\beta_1$, that is, if the model fits only the intercept then for all $Y_i$ we will get just $\\bar{Y}$. If we rewrite the regression model as $Y_i = \\beta_0 X_{0i} + \\beta_1 X_{1i} + \\epsilon_i$ where $X_{0i} = 1$ and $X_{1i} = X_i$ for all $i$ then we consider two possibilities:\n",
    "\n",
    "- Without $\\beta_1$, the model fits all $Y_i$ to $\\bar{Y}$ leading to the residual $Y_i - \\bar{Y}$.\n",
    "- If, instead, we regress $X_{1i}$ on $X_{0i}$ then the estimated coefficient is $\\bar{X}$ so that the residual is $X_{1i} - \\bar{X}$.\n",
    "\n",
    "These residuals are written as\n",
    "\n",
    "- $e_{i, Y|X_2} = Y_i - \\bar{Y}$ and\n",
    "- $e_{i, X_1|X_2} = X_{1i} - \\bar{X}$.\n",
    "\n",
    "An equivalent estimate of $\\hat{\\beta}_1$ is\n",
    "$$\n",
    "\\hat{\\beta}_1 = \\frac{\\sum_{i=1}^n e_{i,Y|X_2} e_{i, X_1|X_2}}{\\sum_{i=1}^n e_{i, X_1|X_2}^2}\n",
    "$$\n",
    "\n",
    "We show that this expression gives the correct estimate of slope by applying the ideas to the `diamond price` dataset."
   ]
  },
  {
   "cell_type": "code",
   "execution_count": null,
   "id": "4bd42a59-6e91-418a-83fe-4e098f380591",
   "metadata": {},
   "outputs": [],
   "source": [
    "Y = df['price']\n",
    "X1 = df['carat']\n",
    "X2 = np.ones(len(Y))\n",
    "n = len(df)\n",
    "\n",
    "model_1 = sm.OLS(Y, X2) # Fitting only the intrecept.\n",
    "result_1 = model_1.fit()\n",
    "resid_1 = result_1.resid\n",
    "\n",
    "model_2 = sm.OLS(X1, X2)\n",
    "result_2 = model_2.fit()\n",
    "resid_2 = result_2.resid"
   ]
  },
  {
   "cell_type": "code",
   "execution_count": null,
   "id": "4c55136c-8327-4695-abbc-36f8e0a6cc26",
   "metadata": {},
   "outputs": [],
   "source": [
    "model = sm.OLS(Y, sm.add_constant(X1))\n",
    "result = model.fit()\n",
    "result.params"
   ]
  },
  {
   "cell_type": "code",
   "execution_count": null,
   "id": "d80f5964-dc2c-481d-ba81-d57d2f0cd3f3",
   "metadata": {},
   "outputs": [],
   "source": [
    "beta_hat_1 = np.cov(resid_1, resid_2)[0][1]/np.var(resid_2) * (n - 1)/n\n",
    "print(np.round(beta_hat_1, 6))"
   ]
  },
  {
   "cell_type": "markdown",
   "id": "74b379c2-0a65-44a9-ab31-06292109d83a",
   "metadata": {},
   "source": [
    "# Multiple regression"
   ]
  },
  {
   "cell_type": "code",
   "execution_count": null,
   "id": "3d7ca8a4-3632-4d15-bcc7-8165bdcbc075",
   "metadata": {},
   "outputs": [],
   "source": [
    "filename = 'seatbelts.csv'\n",
    "pathname = os.path.join('.', 'datasets', filename)\n",
    "if os.path.isfile(pathname):\n",
    "    df = pd.read_csv(pathname)\n",
    "else:\n",
    "    assert False"
   ]
  },
  {
   "cell_type": "code",
   "execution_count": null,
   "id": "16798d63-6202-424f-9a45-cd31078d71f2",
   "metadata": {},
   "outputs": [],
   "source": [
    "df.head()"
   ]
  },
  {
   "cell_type": "code",
   "execution_count": null,
   "id": "271473ec-71bd-4d5d-9b81-b58f6176c0fa",
   "metadata": {},
   "outputs": [],
   "source": [
    "model = smf.ols(data=df, formula='DriversKilled ~ kms + PetrolPrice')\n",
    "result = model.fit()\n",
    "result.summary()"
   ]
  },
  {
   "cell_type": "code",
   "execution_count": null,
   "id": "d1bc16a5-aae4-4893-bcd5-0f525ec520f7",
   "metadata": {},
   "outputs": [],
   "source": [
    "n_acc = result.params['Intercept'] + result.params['kms'] * df['kms'].mean() + result.params['PetrolPrice'] * df['PetrolPrice'].mean()\n",
    "print(f'# accidents at average kms and petrol price as {n_acc}, rounded to {np.round(n_acc)}.')"
   ]
  },
  {
   "cell_type": "code",
   "execution_count": null,
   "id": "175f574c-b6ef-4ff9-8c1b-c375719eb974",
   "metadata": {},
   "outputs": [],
   "source": [
    "print(f'It should be no surprise that this is same as {df['DriversKilled'].mean()}.')"
   ]
  },
  {
   "cell_type": "markdown",
   "id": "1c239fa8-145e-4a94-b351-2f770f5ccdaa",
   "metadata": {},
   "source": [
    "## An equivalent way to get the same results.\n",
    "\n",
    "If we are fitting a model $Y_i = \\beta_0 + \\beta_1 X_{1i} + \\beta_2 X_{2i}$ then we can obtain $\\hat{\\beta}_1$ in three successive applications of OLS.\n",
    "\n",
    "1. Fit $Y_i = \\beta_{1, 0} + \\beta_{1, 2} X_{2i}$. Get the residuals $e_{2i} = Y_i - \\hat{Y}_i$.\n",
    "2. Fit $X_{1i} = \\beta_{12, 0} + \\beta_{12, 1}X_{2i}$. Get the residual $e_{12, i} = X_{1i} - \\hat{X}_1$.\n",
    "3. Fit $e_{2i} - e_{12, i}$ **without intercept**. The slope of this line is the estimate $\\hat{\\beta}_1$.\n",
    "\n",
    "Similarly, we can get $\\hat{\\beta}_2$ as\n",
    "1. Fit $Y_i = \\beta_{2, 0} + \\beta_{2, 1} X_{1i}$. Get the residuals $e_{1i} = Y_i - \\hat{Y}_i$.\n",
    "2. Fit $X_{2i} = \\beta_{21, 0} + \\beta_{21, 1}X_{1i}$. Get the residual $e_{21, i} = X_{2i} - \\hat{X}_2$.\n",
    "3. Fit $e_{1i} - e_{21, i}$ **without intercept**. The slope of this line is the estimate $\\hat{\\beta}_2$.\n",
    "\n",
    "We will illustrate it for the `seatbelts` data."
   ]
  },
  {
   "cell_type": "markdown",
   "id": "536e67f7-22e9-444b-86b5-bd57a7ef88a0",
   "metadata": {},
   "source": [
    "### Regression coefficient for `PetrolPrice`\n",
    "\n",
    "Take the residual for `DriversKilled` having regressed out `kms` and an `intercept` and the residual for `PetrolPrice` having regressed out `kms` and an `intercept`. Fit a regression through the origin of the two residuals and show that it is the same coefficient obtained previously by the standard method."
   ]
  },
  {
   "cell_type": "code",
   "execution_count": null,
   "id": "fbf0c066-435f-4e9c-af47-8ce1a6e43347",
   "metadata": {},
   "outputs": [],
   "source": [
    "model_dk = smf.ols(data=df, formula='DriversKilled ~ kms')\n",
    "result_dk = model_dk.fit()\n",
    "resid_dk = result_dk.resid\n",
    "result_dk.summary()"
   ]
  },
  {
   "cell_type": "code",
   "execution_count": null,
   "id": "e44593a3-5d92-4615-bab7-ea11839307fe",
   "metadata": {},
   "outputs": [],
   "source": [
    "model_pk = smf.ols(data=df, formula='PetrolPrice ~ kms')\n",
    "result_pk = model_pk.fit()\n",
    "resid_pk = result_pk.resid\n",
    "result_pk.summary()"
   ]
  },
  {
   "cell_type": "code",
   "execution_count": null,
   "id": "a5a5fa08-5d3d-4513-8679-ff97887bc1ca",
   "metadata": {},
   "outputs": [],
   "source": [
    "plt.scatter(resid_pk, resid_dk)\n",
    "plt.ylabel('Residual of DriversKilled ~ kms')\n",
    "plt.xlabel('Residual of PetrolPrice ~ kms')\n",
    "_ = plt.title('Plot of two residuals')"
   ]
  },
  {
   "cell_type": "code",
   "execution_count": null,
   "id": "5d9777fd-e640-44e7-a14c-c69a4e125dba",
   "metadata": {},
   "outputs": [],
   "source": [
    "model_pp = sm.OLS(endog=resid_dk, exog=resid_pk)\n",
    "result_pp = model_pp.fit()\n",
    "result_pp.summary()"
   ]
  },
  {
   "cell_type": "code",
   "execution_count": null,
   "id": "1ac9bfac-e5c7-4507-9572-d712f5f6ed4c",
   "metadata": {},
   "outputs": [],
   "source": [
    "if np.abs(result_pp.params.iloc[0] - result.params.iloc[2]) < 1e-8:\n",
    "    print('The regression coefficients obtained by the two methods is the same.')\n",
    "else:\n",
    "    print('The regression coefficients obtained by the two methods is not the same.')"
   ]
  },
  {
   "cell_type": "markdown",
   "id": "916b0386-fec3-4a88-84e6-b0ae556cda19",
   "metadata": {},
   "source": [
    "### Regression coefficient for `kms`\n",
    "\n",
    "Take the residual for `DriversKilled` having regressed out `PetrolPrice` and an `intercept` and the residual for `kms` having regressed out `PetrolPrice` and an `intercept`. Fit a regression through the origin of the two residuals and show that it is the same coefficient obtained previously by the standard method."
   ]
  },
  {
   "cell_type": "code",
   "execution_count": null,
   "id": "a465a505-574b-476b-9175-dcbc43611dc9",
   "metadata": {},
   "outputs": [],
   "source": [
    "model_dp = smf.ols(data=df, formula='DriversKilled ~ PetrolPrice')\n",
    "result_dp = model_dp.fit()\n",
    "resid_dp = result_dp.resid\n",
    "result_dp.summary()"
   ]
  },
  {
   "cell_type": "code",
   "execution_count": null,
   "id": "975d3956-f84b-4507-935b-825216a46c29",
   "metadata": {},
   "outputs": [],
   "source": [
    "model_kp = smf.ols(data=df, formula='kms ~ PetrolPrice')\n",
    "result_kp = model_kp.fit()\n",
    "resid_kp = result_kp.resid\n",
    "result_kp.summary()"
   ]
  },
  {
   "cell_type": "code",
   "execution_count": null,
   "id": "7ace6c58-d8f8-4d7d-9a35-c8f6b6253d38",
   "metadata": {},
   "outputs": [],
   "source": [
    "plt.scatter(resid_kp, resid_dp)\n",
    "plt.ylabel('Residual of DriversKilled ~ PetrolPrice')\n",
    "plt.xlabel('Residual of kms ~ PetrolPrice')\n",
    "_ = plt.title('Plot of two residuals')"
   ]
  },
  {
   "cell_type": "code",
   "execution_count": null,
   "id": "aa803e5b-7fb2-4708-8ea0-0d18e50eb4f9",
   "metadata": {},
   "outputs": [],
   "source": [
    "model_kk = sm.OLS(endog=resid_dp, exog=resid_kp)\n",
    "result_kk = model_kk.fit()\n",
    "result_kk.summary()"
   ]
  },
  {
   "cell_type": "code",
   "execution_count": null,
   "id": "199c095b-cbaa-4773-bb09-44d52f6091d3",
   "metadata": {},
   "outputs": [],
   "source": [
    "if np.abs(result_kk.params.iloc[0] - result.params.iloc[1]) < 1e-8:\n",
    "    print('The regression coefficients obtained by the two methods is the same.')\n",
    "else:\n",
    "    print('The regression coefficients obtained by the two methods is not the same.')"
   ]
  }
 ],
 "metadata": {
  "kernelspec": {
   "display_name": "Python 3 (ipykernel)",
   "language": "python",
   "name": "python3"
  },
  "language_info": {
   "codemirror_mode": {
    "name": "ipython",
    "version": 3
   },
   "file_extension": ".py",
   "mimetype": "text/x-python",
   "name": "python",
   "nbconvert_exporter": "python",
   "pygments_lexer": "ipython3",
   "version": "3.12.5"
  }
 },
 "nbformat": 4,
 "nbformat_minor": 5
}
