{
 "cells": [
  {
   "cell_type": "code",
   "execution_count": null,
   "id": "e07a8c36-dd45-400c-8eb7-5779b362f25b",
   "metadata": {},
   "outputs": [],
   "source": [
    "import statsmodels\n",
    "import pandas as pd\n",
    "import matplotlib.pyplot as plt\n",
    "import numpy as np\n",
    "import scipy\n",
    "import os\n",
    "\n",
    "import statsmodels.api as sm"
   ]
  },
  {
   "cell_type": "markdown",
   "id": "702151fa-474b-4659-a428-385fb87447a7",
   "metadata": {},
   "source": [
    "$$\n",
    "\\newcommand{\\cor}{\\text{Cor}}\n",
    "\\newcommand{\\var}{\\text{Var}}\n",
    "\\newcommand{\\cov}{\\text{Cov}}\n",
    "\\newcommand{E}{\\text{E}}\n",
    "$$"
   ]
  },
  {
   "cell_type": "markdown",
   "id": "5f60e406-908c-4cdb-ba8e-3d1b45793afd",
   "metadata": {},
   "source": [
    "Residuals is what remains to be explained after fitting the regression line. The regression model is $Y_i = \\beta_0 + \\beta_1 X_i + \\epsilon_i$. We estimate the unknown parameters $\\beta_0$ and $\\beta_1$ as\n",
    "$$\n",
    "\\begin{eqnarray}\n",
    "\\hat{\\beta}_1 &=& \\cor(Y, X)\\frac{S_X}{S_Y} \\\\\n",
    "\\hat{\\beta}_0 &=& \\bar{Y} - \\hat{\\beta}_1\\bar{X}\n",
    "\\end{eqnarray}\n",
    "$$\n",
    "We will examine the residuals in Galton's data. The fit in diamond data is quite impressive and may not help understand the idea and importance of residuals. The residuals are defined as \n",
    "$$\n",
    "e_i = Y_i - \\hat{Y}_i.\n",
    "$$\n",
    "An analysis of the residuals helps us understand why a model does not fit well."
   ]
  },
  {
   "cell_type": "code",
   "execution_count": null,
   "id": "bda31d10-60f2-4251-98b5-616f011aa00f",
   "metadata": {},
   "outputs": [],
   "source": [
    "filename = 'galton.csv'\n",
    "pathname = os.path.join('.', 'datasets', filename)\n",
    "if os.path.isfile(pathname):\n",
    "    df: pd.core.frame.DataFrame = pd.read_csv(pathname)\n",
    "else:\n",
    "    assert False"
   ]
  },
  {
   "cell_type": "code",
   "execution_count": null,
   "id": "2b621af3-bf81-49dc-90c1-b199751670af",
   "metadata": {},
   "outputs": [],
   "source": [
    "df.head()"
   ]
  },
  {
   "cell_type": "code",
   "execution_count": null,
   "id": "7f7727a9-d854-4245-8b70-659aac8d1774",
   "metadata": {},
   "outputs": [],
   "source": [
    "model = sm.OLS(endog=df['child'], exog=sm.add_constant(df['parent']))\n",
    "result = model.fit()\n",
    "result.summary()"
   ]
  },
  {
   "cell_type": "code",
   "execution_count": null,
   "id": "3aca9e33-9efe-4482-9f26-c3a3185186b9",
   "metadata": {},
   "outputs": [],
   "source": [
    "Y_hat: np.array = result.predict()\n",
    "residual: np.array = df['child'] - Y_hat"
   ]
  },
  {
   "cell_type": "code",
   "execution_count": null,
   "id": "9b2b681a-6c66-4989-acb4-d0817ee5ca54",
   "metadata": {},
   "outputs": [],
   "source": [
    "np.mean(residual)"
   ]
  },
  {
   "cell_type": "code",
   "execution_count": null,
   "id": "8633814d-4a52-4425-ac3d-d56a3a1aaef0",
   "metadata": {},
   "outputs": [],
   "source": [
    "_ = plt.hist(residual, bins=50)\n",
    "_ = plt.xlabel('residual')\n",
    "_ = plt.title('Distribution of residuals')"
   ]
  },
  {
   "cell_type": "code",
   "execution_count": null,
   "id": "c8157a78-3759-4e35-ab6b-de99efe80ea6",
   "metadata": {},
   "outputs": [],
   "source": [
    "plt.scatter(df['parent'], residual, s=2)\n",
    "plt.xlabel('X')\n",
    "plt.ylabel('e')\n",
    "_ = plt.title(r'Residual for each $X$_i')"
   ]
  },
  {
   "cell_type": "markdown",
   "id": "c67bbc1a-6c5e-4f82-bb2b-8a380815f7ac",
   "metadata": {},
   "source": [
    "A few observations:\n",
    "\n",
    "- The spread in the residuals is not constant across the input. Therefore, the assumption that $\\epsilon_i$ are iid $N(0, \\sigma^2)$ is not valid.\n",
    "- There also seems to be an oscillatory pattern to the residuals.\n",
    "\n",
    "In the next cell, we will look at synthetic data designed to show oscillatory residuals when a linear model is fit."
   ]
  },
  {
   "cell_type": "code",
   "execution_count": null,
   "id": "7980dafd-d77b-4be8-8d22-e4ccbad58afb",
   "metadata": {},
   "outputs": [],
   "source": [
    "X = np.linspace(0, 4, 100)\n",
    "Y = 0.5 * X + np.sin(X)\n",
    "model_1 = sm.OLS(Y, sm.add_constant(X))\n",
    "result_1 = model_1.fit()\n",
    "_ = plt.scatter(X, result_1.resid, s=2)\n",
    "_ = plt.xlabel('X')\n",
    "_ = plt.ylabel('E')\n",
    "_ = plt.title('Residuals')"
   ]
  },
  {
   "cell_type": "markdown",
   "id": "8b5afb75-e3bf-465d-a1d2-f295c5603ea3",
   "metadata": {},
   "source": [
    "In the next synthetic data set, we will deliberately add random noise that does not remain constant."
   ]
  },
  {
   "cell_type": "code",
   "execution_count": null,
   "id": "efab8fa2-dbc9-4016-9cf1-675b4452e079",
   "metadata": {},
   "outputs": [],
   "source": [
    "n_samples = 100\n",
    "X = np.linspace(0, 4, n_samples)\n",
    "Y = 0.5 * X + np.sqrt(X) * np.random.normal(0, 1, n_samples)"
   ]
  },
  {
   "cell_type": "code",
   "execution_count": null,
   "id": "d8255c16-0925-40eb-bdd2-a5d99c79a7ce",
   "metadata": {},
   "outputs": [],
   "source": [
    "model_2 = sm.OLS(Y, sm.add_constant(X))\n",
    "result_2 = model_2.fit()\n",
    "_ = plt.scatter(X, result_2.resid, s=2)\n",
    "_ = plt.xlabel('X')\n",
    "_ = plt.ylabel('E')\n",
    "_ = plt.title('Residuals')"
   ]
  },
  {
   "cell_type": "markdown",
   "id": "75c1e518-9a71-4575-872a-60671b542ac2",
   "metadata": {},
   "source": [
    "The residuals show a blatant violation of the assumption of uniform variance. The violation is called _heteroscedasticity_ while the adherence is called _homoscedasticity_."
   ]
  },
  {
   "cell_type": "markdown",
   "id": "34becc38-800f-4de7-80d9-72a8b7d1e8f8",
   "metadata": {},
   "source": [
    "MSE or residuals is \n",
    "$$\n",
    "\\frac{1}{N-2}\\sum_{i=1}^N (e_i - \\bar{e})^2 = \\frac{1}{N-2}\\sum_{i=1}^N e_i^2,\n",
    "$$\n",
    "as $\\bar{e} = 0$ for a model with intercept. We confirm that using the code in the next two cells. This is called 'variance of residuals'. It differs slightly from the $\\var\\;E$, which we compute separately."
   ]
  },
  {
   "cell_type": "code",
   "execution_count": null,
   "id": "f9bb750b-c8ef-45ca-afee-7ec9eca71b5d",
   "metadata": {},
   "outputs": [],
   "source": [
    "result_2.mse_resid"
   ]
  },
  {
   "cell_type": "code",
   "execution_count": null,
   "id": "757fc27a-e54e-496a-b29f-6bc9f311f0e0",
   "metadata": {},
   "outputs": [],
   "source": [
    "np.sum(result_2.resid**2)/(n_samples - 2)"
   ]
  },
  {
   "cell_type": "code",
   "execution_count": null,
   "id": "b83c98ed-3929-4349-b6d0-28b382f20996",
   "metadata": {},
   "outputs": [],
   "source": [
    "np.var(result_2.resid)"
   ]
  }
 ],
 "metadata": {
  "kernelspec": {
   "display_name": "Python 3 (ipykernel)",
   "language": "python",
   "name": "python3"
  },
  "language_info": {
   "codemirror_mode": {
    "name": "ipython",
    "version": 3
   },
   "file_extension": ".py",
   "mimetype": "text/x-python",
   "name": "python",
   "nbconvert_exporter": "python",
   "pygments_lexer": "ipython3",
   "version": "3.12.5"
  }
 },
 "nbformat": 4,
 "nbformat_minor": 5
}
