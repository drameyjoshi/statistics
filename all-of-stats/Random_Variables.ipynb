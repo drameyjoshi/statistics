{
  "nbformat": 4,
  "nbformat_minor": 0,
  "metadata": {
    "colab": {
      "provenance": [],
      "authorship_tag": "ABX9TyM58z+CYoQkEQC+zde/+8bQ",
      "include_colab_link": true
    },
    "kernelspec": {
      "name": "python3",
      "display_name": "Python 3"
    },
    "language_info": {
      "name": "python"
    }
  },
  "cells": [
    {
      "cell_type": "markdown",
      "metadata": {
        "id": "view-in-github",
        "colab_type": "text"
      },
      "source": [
        "<a href=\"https://colab.research.google.com/github/drameyjoshi/statistics/blob/master/all-of-stats/Random_Variables.ipynb\" target=\"_parent\"><img src=\"https://colab.research.google.com/assets/colab-badge.svg\" alt=\"Open In Colab\"/></a>"
      ]
    },
    {
      "cell_type": "code",
      "execution_count": 4,
      "metadata": {
        "id": "2B3qGjVjsWWa"
      },
      "outputs": [],
      "source": [
        "import numpy as np\n",
        "import scipy.stats as stats"
      ]
    },
    {
      "cell_type": "code",
      "source": [
        "mu = 3\n",
        "sigma = np.sqrt(16)"
      ],
      "metadata": {
        "id": "hXokMHQpeFHi"
      },
      "execution_count": 2,
      "outputs": []
    },
    {
      "cell_type": "code",
      "source": [
        "def show(prob_str: str, prob: float) -> None:\n",
        "    print('{0} = {1}'.format(prob_str, np.round(prob, 4)))"
      ],
      "metadata": {
        "id": "gavtEob5epGJ"
      },
      "execution_count": 15,
      "outputs": []
    },
    {
      "cell_type": "code",
      "source": [
        "p1 = stats.norm.cdf(x=7, loc=mu, scale=sigma)\n",
        "show('P(X < 7)', p1)"
      ],
      "metadata": {
        "colab": {
          "base_uri": "https://localhost:8080/"
        },
        "id": "abY1zaLfdo2Q",
        "outputId": "995c0756-7dca-4071-bd99-3899c846e8f2"
      },
      "execution_count": 16,
      "outputs": [
        {
          "output_type": "stream",
          "name": "stdout",
          "text": [
            "P(X < 7) = 0.8413\n"
          ]
        }
      ]
    },
    {
      "cell_type": "markdown",
      "source": [
        "$P(X > -2) = 1 - P(X \\le -2) = 1 - F(-2)$"
      ],
      "metadata": {
        "id": "OYcXnY2HeWsR"
      }
    },
    {
      "cell_type": "code",
      "source": [
        "p2 = 1 - stats.norm.cdf(x = -2, loc=mu, scale=sigma)\n",
        "show('P(X > -2)', p2)"
      ],
      "metadata": {
        "colab": {
          "base_uri": "https://localhost:8080/"
        },
        "id": "eSlJHKB5eWWI",
        "outputId": "0b44690b-f2c7-40b7-f9fb-5a83100452f8"
      },
      "execution_count": 17,
      "outputs": [
        {
          "output_type": "stream",
          "name": "stdout",
          "text": [
            "P(X > -2) = 0.8944\n"
          ]
        }
      ]
    },
    {
      "cell_type": "markdown",
      "source": [
        "$P(X > x) = 1 - P(X \\le x) = 1 - F(x)$. If $P(X > x) = 0.05$ then $F(x) = 0.95$ so that $x = F^{-1}(0.95)$. Inverse of the cdf is the quantile function."
      ],
      "metadata": {
        "id": "W81UConKfXWU"
      }
    },
    {
      "cell_type": "code",
      "source": [
        "x = stats.norm.ppf(0.95)\n",
        "show('x', x)"
      ],
      "metadata": {
        "colab": {
          "base_uri": "https://localhost:8080/"
        },
        "id": "9EIFAeXRfxcO",
        "outputId": "e39664c0-1946-4bd9-b04e-e64915a817b3"
      },
      "execution_count": 18,
      "outputs": [
        {
          "output_type": "stream",
          "name": "stdout",
          "text": [
            "x = 1.6449\n"
          ]
        }
      ]
    },
    {
      "cell_type": "markdown",
      "source": [
        "$P(0 \\le X < 4) = F(4) - F(0)$"
      ],
      "metadata": {
        "id": "IrRV_Uygf_4E"
      }
    },
    {
      "cell_type": "code",
      "source": [
        "p3 = stats.norm.cdf(4) - stats.norm.cdf(0)\n",
        "show('P(0 <= X < 4)', p3)"
      ],
      "metadata": {
        "colab": {
          "base_uri": "https://localhost:8080/"
        },
        "id": "60UTv1WFf_T5",
        "outputId": "55a1cd57-dcd8-4cde-a796-0d57d9aa7033"
      },
      "execution_count": 19,
      "outputs": [
        {
          "output_type": "stream",
          "name": "stdout",
          "text": [
            "P(0 <= X < 4) = 0.5\n"
          ]
        }
      ]
    },
    {
      "cell_type": "markdown",
      "source": [
        "$|X| > |x| \\Rightarrow X > x \\text{ and } -|X| < x$. Since the normal distribution is symmetric. $P(|X| > |x|) = 2P(X > x)$. Thus, we need $x$ such that $2P(X > x) = 0.05 \\Rightarrow P(X > x) = 0.025$, that is $P(X \\le x) = 0.975$ or $x = F^{-1}(0.975)$. The other $x$ for which this is true is $-x = F^{-1}(0.025)$."
      ],
      "metadata": {
        "id": "jkHotobYgP3m"
      }
    },
    {
      "cell_type": "code",
      "source": [
        "print(r'x = +/- {0}'.format(np.round(stats.norm.ppf(0.975)), 4))"
      ],
      "metadata": {
        "colab": {
          "base_uri": "https://localhost:8080/"
        },
        "id": "BHTfTQoEhoC1",
        "outputId": "fbcbbe2a-960f-492f-bb9d-8d9dab44fdee"
      },
      "execution_count": 22,
      "outputs": [
        {
          "output_type": "stream",
          "name": "stdout",
          "text": [
            "x = +/- 2.0\n"
          ]
        }
      ]
    }
  ]
}