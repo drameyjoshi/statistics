{
 "cells": [
  {
   "cell_type": "code",
   "execution_count": 1,
   "metadata": {},
   "outputs": [],
   "source": [
    "import pandas as pd\n",
    "import numpy as np\n",
    "import matplotlib.pyplot as plt\n",
    "\n",
    "from sklearn.linear_model import LogisticRegression\n",
    "from sklearn.preprocessing import StandardScaler\n",
    "from sklearn.model_selection import RandomizedSearchCV, train_test_split, KFold \n",
    "from sklearn.metrics import roc_curve, classification_report, confusion_matrix\n",
    "from sklearn.metrics import precision_score, accuracy_score, recall_score\n",
    "from sklearn.metrics import precision_recall_curve, f1_score, roc_auc_score"
   ]
  },
  {
   "cell_type": "code",
   "execution_count": 2,
   "metadata": {},
   "outputs": [],
   "source": [
    "data = pd.read_csv('model_data.csv')"
   ]
  },
  {
   "cell_type": "code",
   "execution_count": 20,
   "metadata": {},
   "outputs": [],
   "source": [
    "# This choice comes from cross-validation using R's glmnet libraries.\n",
    "X = data[[\"SMS_received\", \"VisitNum\", \"CumNoShow\", \"Age.Grp\", \"Gap.Grp\"]]"
   ]
  },
  {
   "cell_type": "code",
   "execution_count": 21,
   "metadata": {},
   "outputs": [],
   "source": [
    "y = data['Outcome']"
   ]
  },
  {
   "cell_type": "code",
   "execution_count": 51,
   "metadata": {},
   "outputs": [],
   "source": [
    "X_train, X_test, y_train, y_test = train_test_split(X, y, test_size=0.1, random_state=15081947)\n",
    "X_train, y_train = np.array(X_train), np.array(y_train) \n",
    "kf = KFold(n_splits=13, shuffle=True, random_state = 26011950)"
   ]
  },
  {
   "cell_type": "code",
   "execution_count": 52,
   "metadata": {},
   "outputs": [],
   "source": [
    "accuracy = []\n",
    "recall = []\n",
    "precision = []\n",
    "roc_auc = []\n",
    "coeffs = []\n",
    "intercept = []\n",
    "\n",
    "for train, val in kf.split(X, y):\n",
    "    X_trainfold, y_trainfold = X_train[train], y_train[train]\n",
    "    X_valfold, y_valfold = X_train[val], y_train[val] \n",
    "    \n",
    "    lr = LogisticRegression(solver='saga', penalty='l1')\n",
    "    \n",
    "    lr.fit(X_trainfold, y_trainfold)\n",
    "    y_predict = lr.predict(X_valfold)\n",
    "    \n",
    "    # Get the model parameters.\n",
    "    coeffs.append(reg.coef_)\n",
    "    intercept.append(reg.intercept_)\n",
    "    # Get the model performance.\n",
    "    accuracy.append(accuracy_score(y_valfold, y_predict))\n",
    "    recall.append(recall_score(y_valfold, y_predict))\n",
    "    precision.append(precision_score(y_valfold, y_predict))\n",
    "    roc_auc.append(roc_auc_score(y_valfold,y_predict))"
   ]
  },
  {
   "cell_type": "code",
   "execution_count": 60,
   "metadata": {},
   "outputs": [
    {
     "name": "stdout",
     "output_type": "stream",
     "text": [
      "Training set accuracy = 0.9358387964679834.\n",
      "Training set recall = 0.8129856532279033.\n",
      "Training set precision = 0.8615509443083692\n",
      "Training set ROC-AUC = 0.8899606376342433\n"
     ]
    }
   ],
   "source": [
    "print(f'Training set accuracy = {np.mean(accuracy)}.')\n",
    "print(f'Training set recall = {np.mean(recall)}.')\n",
    "print(f'Training set precision = {np.mean(precision)}')\n",
    "print(f'Training set ROC-AUC = {np.mean(roc_auc)}')"
   ]
  },
  {
   "cell_type": "code",
   "execution_count": 64,
   "metadata": {},
   "outputs": [
    {
     "name": "stdout",
     "output_type": "stream",
     "text": [
      "[\"SMS_received\", \"VisitNum\", \"CumNoShow\", \"Age.Grp\", \"Gap.Grp\"]\n",
      "Model coefficients = [[ 0.35307603 -1.3291846   4.3236461  -0.0299768   0.30989835]]\n"
     ]
    }
   ],
   "source": [
    "print('[\"SMS_received\", \"VisitNum\", \"CumNoShow\", \"Age.Grp\", \"Gap.Grp\"]')\n",
    "print(f'Model coefficients = {np.mean(coeffs, axis=0)}')"
   ]
  },
  {
   "cell_type": "markdown",
   "metadata": {},
   "source": [
    "Recall that <code>No-show == 1</code> means that the patient misses an appointment. The model predicts the probability of this event.\n",
    "\n",
    "Chances of a patient missing an appointment increase with <code>SMS_received, CumNoShow, Gap.Grp</code>, they improve with <code>VisitNum</code> and <code>Age.Grp</code>. <code>CumNoShow</code> and <code>Gap.Grp</code> are the strongest predictor of a person not showing up. On the other hand, a patient tends **not** to miss an appointment if he/she has visited the hospital several times before. Older patients too tend not to miss an appointment."
   ]
  },
  {
   "cell_type": "code",
   "execution_count": 62,
   "metadata": {},
   "outputs": [
    {
     "name": "stdout",
     "output_type": "stream",
     "text": [
      "Model intercept = [-1.45915179]\n"
     ]
    }
   ],
   "source": [
    "print(f'Model intercept = {np.mean(intercept, axis=0)}')"
   ]
  },
  {
   "cell_type": "code",
   "execution_count": 56,
   "metadata": {},
   "outputs": [],
   "source": [
    "y_predict = lr.predict(X_test)"
   ]
  },
  {
   "cell_type": "code",
   "execution_count": 63,
   "metadata": {},
   "outputs": [
    {
     "name": "stdout",
     "output_type": "stream",
     "text": [
      "Test set accuracy = 0.9341355288157062\n",
      "Test set recall = 0.8132743362831858\n",
      "Test set precision = 0.8572761194029851\n",
      "Test set ROC-AUC = 0.8892369634333023\n"
     ]
    }
   ],
   "source": [
    "print(f'Test set accuracy = {accuracy_score(y_test, y_predict)}')\n",
    "print(f'Test set recall = {recall_score(y_test, y_predict)}')\n",
    "print(f'Test set precision = {precision_score(y_test, y_predict)}')\n",
    "print(f'Test set ROC-AUC = {roc_auc_score(y_test,y_predict)}')"
   ]
  },
  {
   "cell_type": "code",
   "execution_count": null,
   "metadata": {},
   "outputs": [],
   "source": []
  }
 ],
 "metadata": {
  "kernelspec": {
   "display_name": "Python 3",
   "language": "python",
   "name": "python3"
  },
  "language_info": {
   "codemirror_mode": {
    "name": "ipython",
    "version": 3
   },
   "file_extension": ".py",
   "mimetype": "text/x-python",
   "name": "python",
   "nbconvert_exporter": "python",
   "pygments_lexer": "ipython3",
   "version": "3.8.5"
  }
 },
 "nbformat": 4,
 "nbformat_minor": 4
}
