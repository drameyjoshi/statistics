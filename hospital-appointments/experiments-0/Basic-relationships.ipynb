{
 "cells": [
  {
   "cell_type": "markdown",
   "metadata": {},
   "source": [
    "Do the attributes change substantially for the two values of outcome? We will use crosstabs to get a feel of this data."
   ]
  },
  {
   "cell_type": "code",
   "execution_count": 2,
   "metadata": {},
   "outputs": [],
   "source": [
    "import pandas as pd\n",
    "import numpy as np\n",
    "import datetime\n",
    "import matplotlib.pyplot as plt\n",
    "from scipy import stats"
   ]
  },
  {
   "cell_type": "code",
   "execution_count": 3,
   "metadata": {},
   "outputs": [],
   "source": [
    "data = pd.read_csv('../clean_data.csv', dtype={'PatientId': str, 'AppointmentID': str})"
   ]
  },
  {
   "cell_type": "code",
   "execution_count": 4,
   "metadata": {},
   "outputs": [
    {
     "data": {
      "text/plain": [
       "PatientId         object\n",
       "AppointmentID     object\n",
       "Gender            object\n",
       "ScheduledDay      object\n",
       "AppointmentDay    object\n",
       "Age                int64\n",
       "Neighbourhood     object\n",
       "Scholarship        int64\n",
       "Hipertension       int64\n",
       "Diabetes           int64\n",
       "Alcoholism         int64\n",
       "Handcap            int64\n",
       "SMS_received       int64\n",
       "Gap               object\n",
       "Gap.d              int64\n",
       "No-show            int64\n",
       "dtype: object"
      ]
     },
     "execution_count": 4,
     "metadata": {},
     "output_type": "execute_result"
    }
   ],
   "source": [
    "data.dtypes"
   ]
  },
  {
   "cell_type": "markdown",
   "metadata": {},
   "source": [
    "## Which categorical attributes are important?\n",
    "We find out which ones are likely to result in a different outcome."
   ]
  },
  {
   "cell_type": "code",
   "execution_count": 5,
   "metadata": {},
   "outputs": [],
   "source": [
    "def run_chi_sq(att1, att2, significance = 0.05, print_results = True):\n",
    "    \"\"\"Run chi-square test for attributes att1 and att2.\"\"\"\n",
    "    ct = pd.crosstab(data[att1], data[att2])\n",
    "    chsq_results = stats.chi2_contingency(ct)\n",
    "    pval = chsq_results[1]\n",
    "    \n",
    "    if print_results:\n",
    "        print(f'Crosstab between {att1} and {att2}:')\n",
    "        print(ct.apply(lambda r: r/r.sum(), axis=1))        \n",
    "        print(chsq_results)\n",
    "        print(f'p-value = {pval}')\n",
    "        \n",
    "    if pval < 0.05:\n",
    "        print('Reject the null hypothesis that the groups are same.')\n",
    "    else:\n",
    "        print('Fail to reject the null hypothesis that the groups are same.')\n",
    "        \n",
    "    return pval"
   ]
  },
  {
   "cell_type": "code",
   "execution_count": 6,
   "metadata": {},
   "outputs": [
    {
     "name": "stdout",
     "output_type": "stream",
     "text": [
      "Checking if groups of Gender differ in outcome.\n",
      "Crosstab between Gender and No-show:\n",
      "No-show         0         1\n",
      "Gender                     \n",
      "F        0.796415  0.203585\n",
      "M        0.799154  0.200846\n",
      "(1.105150848453627, 0.2931384808342846, 1, array([[55909.18734052, 14208.81265948],\n",
      "       [29397.81265948,  7471.18734052]]))\n",
      "p-value = 0.2931384808342846\n",
      "Fail to reject the null hypothesis that the groups are same.\n",
      "--------------------------------------------------------------------------------\n",
      "Checking if groups of Neighbourhood differ in outcome.\n",
      "Crosstab between Neighbourhood and No-show:\n",
      "No-show                     0         1\n",
      "Neighbourhood                          \n",
      "AEROPORTO            0.875000  0.125000\n",
      "ANDORINHAS           0.768109  0.231891\n",
      "ANTÔNIO HONÓRIO      0.824903  0.175097\n",
      "ARIOVALDO FAVALESSA  0.772388  0.227612\n",
      "BARRO VERMELHO       0.782297  0.217703\n",
      "...                       ...       ...\n",
      "SÃO JOSÉ             0.782120  0.217880\n",
      "SÃO PEDRO            0.788150  0.211850\n",
      "TABUAZEIRO           0.817158  0.182842\n",
      "UNIVERSITÁRIO        0.788079  0.211921\n",
      "VILA RUBIM           0.832328  0.167672\n",
      "\n",
      "[81 rows x 2 columns]\n",
      "(507.91580659153567, 1.8015749468233328e-63, 80, array([[6.37886846e+00, 1.62113154e+00],\n",
      "       [1.75020203e+03, 4.44797966e+02],\n",
      "       [2.04921149e+02, 5.20788507e+01],\n",
      "       [2.13692093e+02, 5.43079066e+01],\n",
      "       [3.33295877e+02, 8.47041229e+01],\n",
      "       [1.46235559e+03, 3.71644405e+02],\n",
      "       [6.76957415e+02, 1.72042585e+02],\n",
      "       [2.43194360e+02, 6.18056399e+01],\n",
      "       [2.15286811e+03, 5.47131895e+02],\n",
      "       [1.98462545e+03, 5.04374550e+02],\n",
      "       [2.61693079e+03, 6.65069214e+02],\n",
      "       [2.45586436e+02, 6.24135643e+01],\n",
      "       [6.45860432e+02, 1.64139568e+02],\n",
      "       [1.05809481e+03, 2.68905194e+02],\n",
      "       [1.08201556e+03, 2.74984437e+02],\n",
      "       [1.71830769e+03, 4.36692308e+02],\n",
      "       [2.39207567e+02, 6.07924327e+01],\n",
      "       [4.27384187e+02, 1.08615813e+02],\n",
      "       [3.14956630e+02, 8.00433698e+01],\n",
      "       [6.56226093e+02, 1.66773907e+02],\n",
      "       [1.82595110e+02, 4.64048903e+01],\n",
      "       [4.25789470e+02, 1.08210530e+02],\n",
      "       [5.31838158e+02, 1.35161842e+02],\n",
      "       [1.44242163e+03, 3.66578369e+02],\n",
      "       [2.02529074e+02, 5.14709264e+01],\n",
      "       [5.46987971e+02, 1.39012029e+02],\n",
      "       [8.45997430e+02, 2.15002570e+02],\n",
      "       [1.51896805e+03, 3.86031948e+02],\n",
      "       [1.32361521e+02, 3.36384794e+01],\n",
      "       [8.13305729e+02, 2.06694271e+02],\n",
      "       [1.45358465e+03, 3.69415350e+02],\n",
      "       [2.79075495e+01, 7.09245048e+00],\n",
      "       [7.97358558e+00, 2.02641442e+00],\n",
      "       [1.77173071e+03, 4.50269285e+02],\n",
      "       [1.59471712e+00, 4.05282885e-01],\n",
      "       [7.94966482e+02, 2.02033518e+02],\n",
      "       [2.72058740e+03, 6.91412602e+02],\n",
      "       [1.91047110e+03, 4.85528896e+02],\n",
      "       [6.04876202e+03, 1.53723798e+03],\n",
      "       [3.07062781e+03, 7.80372195e+02],\n",
      "       [2.16801792e+03, 5.50982082e+02],\n",
      "       [1.08281292e+03, 2.75187079e+02],\n",
      "       [5.43001178e+02, 1.37998822e+02],\n",
      "       [4.43570566e+03, 1.12729434e+03],\n",
      "       [1.48707371e+03, 3.77926290e+02],\n",
      "       [5.11904194e+02, 1.30095806e+02],\n",
      "       [6.21142316e+02, 1.57857684e+02],\n",
      "       [7.49517044e+01, 1.90482956e+01],\n",
      "       [2.92630591e+02, 7.43694094e+01],\n",
      "       [1.05251330e+02, 2.67486704e+01],\n",
      "       [1.71192882e+03, 4.35071177e+02],\n",
      "       [7.97358558e-01, 2.02641442e-01],\n",
      "       [6.30710619e+02, 1.60289381e+02],\n",
      "       [3.46850973e+02, 8.81490275e+01],\n",
      "       [5.50177405e+01, 1.39822595e+01],\n",
      "       [8.21279314e+02, 2.08720686e+02],\n",
      "       [1.00387442e+03, 2.55125576e+02],\n",
      "       [1.18886161e+03, 3.02138391e+02],\n",
      "       [6.49847224e+02, 1.65152776e+02],\n",
      "       [3.37681349e+03, 8.58186509e+02],\n",
      "       [1.69518429e+03, 4.30815707e+02],\n",
      "       [3.53229841e+02, 8.97701590e+01],\n",
      "       [3.95489845e+02, 1.00510155e+02],\n",
      "       [1.38740389e+02, 3.52596110e+01],\n",
      "       [3.34093236e+02, 8.49067644e+01],\n",
      "       [3.46053614e+02, 8.79463860e+01],\n",
      "       [2.42476737e+03, 6.16232626e+02],\n",
      "       [1.00387442e+03, 2.55125576e+02],\n",
      "       [1.95990733e+03, 4.98092665e+02],\n",
      "       [2.13133942e+03, 5.41660576e+02],\n",
      "       [9.95900838e+02, 2.53099162e+02],\n",
      "       [4.14626450e+02, 1.05373550e+02],\n",
      "       [1.11630198e+02, 2.83698019e+01],\n",
      "       [3.60406068e+02, 9.15939320e+01],\n",
      "       [1.07723141e+03, 2.73768589e+02],\n",
      "       [1.42328503e+03, 3.61714975e+02],\n",
      "       [1.48946579e+03, 3.78534214e+02],\n",
      "       [1.87060318e+03, 4.75396824e+02],\n",
      "       [2.40722549e+03, 6.11774515e+02],\n",
      "       [1.20401142e+02, 3.05988578e+01],\n",
      "       [6.61010244e+02, 1.67989756e+02]]))\n",
      "p-value = 1.8015749468233328e-63\n",
      "Reject the null hypothesis that the groups are same.\n",
      "--------------------------------------------------------------------------------\n",
      "Checking if groups of Scholarship differ in outcome.\n",
      "Crosstab between Scholarship and No-show:\n",
      "No-show             0         1\n",
      "Scholarship                    \n",
      "0            0.801316  0.198684\n",
      "1            0.762143  0.237857\n",
      "(92.04383938843907, 8.47774514795202e-22, 1, array([[76688.3513511, 19489.6486489],\n",
      "       [ 8618.6486489,  2190.3513511]]))\n",
      "p-value = 8.47774514795202e-22\n",
      "Reject the null hypothesis that the groups are same.\n",
      "--------------------------------------------------------------------------------\n",
      "Checking if groups of Hipertension differ in outcome.\n",
      "Crosstab between Hipertension and No-show:\n",
      "No-show              0         1\n",
      "Hipertension                    \n",
      "0             0.789778  0.210222\n",
      "1             0.826980  0.173020\n",
      "(148.45985866324457, 3.7636497903885083e-34, 1, array([[67923.78608616, 17262.21391384],\n",
      "       [17383.21391384,  4417.78608616]]))\n",
      "p-value = 3.7636497903885083e-34\n",
      "Reject the null hypothesis that the groups are same.\n",
      "--------------------------------------------------------------------------------\n",
      "Checking if groups of Diabetes differ in outcome.\n",
      "Crosstab between Diabetes and No-show:\n",
      "No-show          0         1\n",
      "Diabetes                    \n",
      "0         0.795545  0.204455\n",
      "1         0.819967  0.180033\n",
      "(26.992012023422383, 2.0429799883773034e-07, 1, array([[78973.58097713, 20070.41902287],\n",
      "       [ 6333.41902287,  1609.58097713]]))\n",
      "p-value = 2.0429799883773034e-07\n",
      "Reject the null hypothesis that the groups are same.\n",
      "--------------------------------------------------------------------------------\n",
      "Checking if groups of Alcoholism differ in outcome.\n",
      "Crosstab between Alcoholism and No-show:\n",
      "No-show            0         1\n",
      "Alcoholism                    \n",
      "0           0.797321  0.202679\n",
      "1           0.798512  0.201488\n",
      "(0.021664460414386896, 0.8829832216347075, 1, array([[82627.87524653, 20999.12475347],\n",
      "       [ 2679.12475347,   680.87524653]]))\n",
      "p-value = 0.8829832216347075\n",
      "Fail to reject the null hypothesis that the groups are same.\n",
      "--------------------------------------------------------------------------------\n",
      "Checking if groups of Handcap differ in outcome.\n",
      "Crosstab between Handcap and No-show:\n",
      "No-show         0         1\n",
      "Handcap                    \n",
      "0        0.796911  0.203089\n",
      "1        0.820676  0.179324\n",
      "2        0.797814  0.202186\n",
      "3        0.769231  0.230769\n",
      "4        0.666667  0.333333\n",
      "(7.379041860204966, 0.11716284199176569, 4, array([[8.35209168e+04, 2.12260832e+04],\n",
      "       [1.62740882e+03, 4.13591184e+02],\n",
      "       [1.45916616e+02, 3.70833840e+01],\n",
      "       [1.03656612e+01, 2.63433875e+00],\n",
      "       [2.39207567e+00, 6.07924327e-01]]))\n",
      "p-value = 0.11716284199176569\n",
      "Fail to reject the null hypothesis that the groups are same.\n",
      "--------------------------------------------------------------------------------\n",
      "Checking if groups of SMS_received differ in outcome.\n",
      "Crosstab between SMS_received and No-show:\n",
      "No-show              0         1\n",
      "SMS_received                    \n",
      "0             0.832712  0.167288\n",
      "1             0.723348  0.276652\n",
      "(1731.8120940388308, 0.0, 1, array([[57730.35428603, 14671.64571397],\n",
      "       [27576.64571397,  7008.35428603]]))\n",
      "p-value = 0.0\n",
      "Reject the null hypothesis that the groups are same.\n",
      "--------------------------------------------------------------------------------\n"
     ]
    }
   ],
   "source": [
    "attr_list = ['Gender', 'Neighbourhood','Scholarship', 'Hipertension', 'Diabetes', 'Alcoholism', \\\n",
    "             'Handcap', 'SMS_received']\n",
    "\n",
    "significant_attr = [] # This list will collect attributes that are significant.\n",
    "\n",
    "for attr in attr_list:\n",
    "    print(f'Checking if groups of {attr} differ in outcome.')\n",
    "    pval = run_chi_sq(attr, 'No-show', print_results=True)\n",
    "    if pval < 0.05:\n",
    "        significant_attr.append(attr)\n",
    "    print('-' * 80)"
   ]
  },
  {
   "cell_type": "code",
   "execution_count": 10,
   "metadata": {},
   "outputs": [
    {
     "name": "stdout",
     "output_type": "stream",
     "text": [
      "Based on the chi-square test, the following attributes are important:\n",
      "['Neighbourhood', 'Scholarship', 'Hipertension', 'Diabetes', 'SMS_received']\n"
     ]
    }
   ],
   "source": [
    "print('Based on the chi-square test, the following attributes are important:')\n",
    "print([a for a in significant_attr])"
   ]
  },
  {
   "cell_type": "markdown",
   "metadata": {},
   "source": [
    "The variable <code>SMS_received</code> shows **counter-intuitive behaviour**. The crosstab indicates that the probability of <code>No-show</code> increases when an SMS is sent."
   ]
  },
  {
   "cell_type": "code",
   "execution_count": 11,
   "metadata": {},
   "outputs": [
    {
     "data": {
      "text/html": [
       "<div>\n",
       "<style scoped>\n",
       "    .dataframe tbody tr th:only-of-type {\n",
       "        vertical-align: middle;\n",
       "    }\n",
       "\n",
       "    .dataframe tbody tr th {\n",
       "        vertical-align: top;\n",
       "    }\n",
       "\n",
       "    .dataframe thead th {\n",
       "        text-align: right;\n",
       "    }\n",
       "</style>\n",
       "<table border=\"1\" class=\"dataframe\">\n",
       "  <thead>\n",
       "    <tr style=\"text-align: right;\">\n",
       "      <th>No-show</th>\n",
       "      <th>No</th>\n",
       "      <th>Yes</th>\n",
       "    </tr>\n",
       "    <tr>\n",
       "      <th>SMS_received</th>\n",
       "      <th></th>\n",
       "      <th></th>\n",
       "    </tr>\n",
       "  </thead>\n",
       "  <tbody>\n",
       "    <tr>\n",
       "      <th>0</th>\n",
       "      <td>0.832967</td>\n",
       "      <td>0.167033</td>\n",
       "    </tr>\n",
       "    <tr>\n",
       "      <th>1</th>\n",
       "      <td>0.724255</td>\n",
       "      <td>0.275745</td>\n",
       "    </tr>\n",
       "  </tbody>\n",
       "</table>\n",
       "</div>"
      ],
      "text/plain": [
       "No-show             No       Yes\n",
       "SMS_received                    \n",
       "0             0.832967  0.167033\n",
       "1             0.724255  0.275745"
      ]
     },
     "execution_count": 11,
     "metadata": {},
     "output_type": "execute_result"
    }
   ],
   "source": [
    "pd.crosstab(data['SMS_received'], data['No-show']).apply(lambda r: r/r.sum(), axis=1)"
   ]
  },
  {
   "cell_type": "markdown",
   "metadata": {},
   "source": [
    "## Does Age determine is a patient misses an appointment?"
   ]
  },
  {
   "cell_type": "code",
   "execution_count": 17,
   "metadata": {},
   "outputs": [
    {
     "data": {
      "text/html": [
       "<div>\n",
       "<style scoped>\n",
       "    .dataframe tbody tr th:only-of-type {\n",
       "        vertical-align: middle;\n",
       "    }\n",
       "\n",
       "    .dataframe tbody tr th {\n",
       "        vertical-align: top;\n",
       "    }\n",
       "\n",
       "    .dataframe thead th {\n",
       "        text-align: right;\n",
       "    }\n",
       "</style>\n",
       "<table border=\"1\" class=\"dataframe\">\n",
       "  <thead>\n",
       "    <tr style=\"text-align: right;\">\n",
       "      <th></th>\n",
       "      <th>Age</th>\n",
       "    </tr>\n",
       "    <tr>\n",
       "      <th>No-show</th>\n",
       "      <th></th>\n",
       "    </tr>\n",
       "  </thead>\n",
       "  <tbody>\n",
       "    <tr>\n",
       "      <th>No</th>\n",
       "      <td>37.790064</td>\n",
       "    </tr>\n",
       "    <tr>\n",
       "      <th>Yes</th>\n",
       "      <td>34.317667</td>\n",
       "    </tr>\n",
       "  </tbody>\n",
       "</table>\n",
       "</div>"
      ],
      "text/plain": [
       "               Age\n",
       "No-show           \n",
       "No       37.790064\n",
       "Yes      34.317667"
      ]
     },
     "execution_count": 17,
     "metadata": {},
     "output_type": "execute_result"
    }
   ],
   "source": [
    "data[['Age', 'No-show']].groupby('No-show').mean()"
   ]
  },
  {
   "cell_type": "markdown",
   "metadata": {},
   "source": [
    "Are these group means statistically different? We will find out using a $t$-test. But before we do that, we should check if the grouped variances are same."
   ]
  },
  {
   "cell_type": "code",
   "execution_count": 18,
   "metadata": {},
   "outputs": [
    {
     "data": {
      "text/html": [
       "<div>\n",
       "<style scoped>\n",
       "    .dataframe tbody tr th:only-of-type {\n",
       "        vertical-align: middle;\n",
       "    }\n",
       "\n",
       "    .dataframe tbody tr th {\n",
       "        vertical-align: top;\n",
       "    }\n",
       "\n",
       "    .dataframe thead th {\n",
       "        text-align: right;\n",
       "    }\n",
       "</style>\n",
       "<table border=\"1\" class=\"dataframe\">\n",
       "  <thead>\n",
       "    <tr style=\"text-align: right;\">\n",
       "      <th></th>\n",
       "      <th>Age</th>\n",
       "    </tr>\n",
       "    <tr>\n",
       "      <th>No-show</th>\n",
       "      <th></th>\n",
       "    </tr>\n",
       "  </thead>\n",
       "  <tbody>\n",
       "    <tr>\n",
       "      <th>No</th>\n",
       "      <td>544.703237</td>\n",
       "    </tr>\n",
       "    <tr>\n",
       "      <th>Yes</th>\n",
       "      <td>482.502543</td>\n",
       "    </tr>\n",
       "  </tbody>\n",
       "</table>\n",
       "</div>"
      ],
      "text/plain": [
       "                Age\n",
       "No-show            \n",
       "No       544.703237\n",
       "Yes      482.502543"
      ]
     },
     "execution_count": 18,
     "metadata": {},
     "output_type": "execute_result"
    }
   ],
   "source": [
    "data[['Age', 'No-show']].groupby('No-show').var()"
   ]
  },
  {
   "cell_type": "markdown",
   "metadata": {},
   "source": [
    "They are different. We will confirm that the difference is statistically significant using a non-parameteric Fligner-Killen test."
   ]
  },
  {
   "cell_type": "code",
   "execution_count": 44,
   "metadata": {},
   "outputs": [
    {
     "data": {
      "text/plain": [
       "FlignerResult(statistic=175.6356737278427, pvalue=4.34903876314856e-40)"
      ]
     },
     "execution_count": 44,
     "metadata": {},
     "output_type": "execute_result"
    }
   ],
   "source": [
    "stats.fligner(data.loc[data['No-show'] == 0]['Age'], data.loc[data['No-show'] == 1]['Age'])"
   ]
  },
  {
   "cell_type": "markdown",
   "metadata": {},
   "source": [
    "$H_0$ of Fligner-Killen test is 'grouped variances are same'. The tiny $p$-value suggests that we can reject $H_0$. We use his fact in the <code>equal_var</code> argument of the $t$-test."
   ]
  },
  {
   "cell_type": "code",
   "execution_count": 45,
   "metadata": {},
   "outputs": [
    {
     "data": {
      "text/plain": [
       "Ttest_indResult(statistic=22.681609851423673, pvalue=4.465677556212271e-113)"
      ]
     },
     "execution_count": 45,
     "metadata": {},
     "output_type": "execute_result"
    }
   ],
   "source": [
    "stats.ttest_ind(data.loc[data['No-show'] == 0]['Age'], data.loc[data['No-show'] == 1]['Age'], equal_var=False)"
   ]
  },
  {
   "cell_type": "markdown",
   "metadata": {},
   "source": [
    "$H_0$ of $t$-test is that the 'group means are same'. The $p$-value allows us to reject $H_0$. Thus, <code>Age</code> is an important variable for us."
   ]
  },
  {
   "cell_type": "markdown",
   "metadata": {},
   "source": [
    "## Do the date/time variables determine if patients miss an appointment?\n",
    "I suspect two things:\n",
    "1. If people scheduled an appointment too far in the future, they might miss it.\n",
    "2. If an appointment is very early or very late in the day, they might miss it. Perhaps, they don't get transport to the hospital.\n",
    "\n",
    "I will examine these possibilities now."
   ]
  },
  {
   "cell_type": "code",
   "execution_count": 4,
   "metadata": {},
   "outputs": [
    {
     "data": {
      "text/html": [
       "<div>\n",
       "<style scoped>\n",
       "    .dataframe tbody tr th:only-of-type {\n",
       "        vertical-align: middle;\n",
       "    }\n",
       "\n",
       "    .dataframe tbody tr th {\n",
       "        vertical-align: top;\n",
       "    }\n",
       "\n",
       "    .dataframe thead th {\n",
       "        text-align: right;\n",
       "    }\n",
       "</style>\n",
       "<table border=\"1\" class=\"dataframe\">\n",
       "  <thead>\n",
       "    <tr style=\"text-align: right;\">\n",
       "      <th>No-show</th>\n",
       "      <th>0</th>\n",
       "      <th>1</th>\n",
       "    </tr>\n",
       "    <tr>\n",
       "      <th>Gap.d</th>\n",
       "      <th></th>\n",
       "      <th></th>\n",
       "    </tr>\n",
       "  </thead>\n",
       "  <tbody>\n",
       "    <tr>\n",
       "      <th>-7</th>\n",
       "      <td>0</td>\n",
       "      <td>1</td>\n",
       "    </tr>\n",
       "    <tr>\n",
       "      <th>-2</th>\n",
       "      <td>0</td>\n",
       "      <td>4</td>\n",
       "    </tr>\n",
       "    <tr>\n",
       "      <th>-1</th>\n",
       "      <td>36771</td>\n",
       "      <td>1792</td>\n",
       "    </tr>\n",
       "    <tr>\n",
       "      <th>0</th>\n",
       "      <td>4100</td>\n",
       "      <td>1113</td>\n",
       "    </tr>\n",
       "    <tr>\n",
       "      <th>1</th>\n",
       "      <td>5123</td>\n",
       "      <td>1602</td>\n",
       "    </tr>\n",
       "    <tr>\n",
       "      <th>...</th>\n",
       "      <td>...</td>\n",
       "      <td>...</td>\n",
       "    </tr>\n",
       "    <tr>\n",
       "      <th>154</th>\n",
       "      <td>4</td>\n",
       "      <td>6</td>\n",
       "    </tr>\n",
       "    <tr>\n",
       "      <th>161</th>\n",
       "      <td>9</td>\n",
       "      <td>2</td>\n",
       "    </tr>\n",
       "    <tr>\n",
       "      <th>168</th>\n",
       "      <td>7</td>\n",
       "      <td>1</td>\n",
       "    </tr>\n",
       "    <tr>\n",
       "      <th>175</th>\n",
       "      <td>10</td>\n",
       "      <td>6</td>\n",
       "    </tr>\n",
       "    <tr>\n",
       "      <th>178</th>\n",
       "      <td>8</td>\n",
       "      <td>2</td>\n",
       "    </tr>\n",
       "  </tbody>\n",
       "</table>\n",
       "<p>131 rows × 2 columns</p>\n",
       "</div>"
      ],
      "text/plain": [
       "No-show      0     1\n",
       "Gap.d               \n",
       "-7           0     1\n",
       "-2           0     4\n",
       "-1       36771  1792\n",
       " 0        4100  1113\n",
       " 1        5123  1602\n",
       "...        ...   ...\n",
       " 154         4     6\n",
       " 161         9     2\n",
       " 168         7     1\n",
       " 175        10     6\n",
       " 178         8     2\n",
       "\n",
       "[131 rows x 2 columns]"
      ]
     },
     "execution_count": 4,
     "metadata": {},
     "output_type": "execute_result"
    }
   ],
   "source": [
    "pd.crosstab(data['Gap.d'], data['No-show'])"
   ]
  },
  {
   "cell_type": "code",
   "execution_count": 9,
   "metadata": {},
   "outputs": [
    {
     "data": {
      "text/html": [
       "<div>\n",
       "<style scoped>\n",
       "    .dataframe tbody tr th:only-of-type {\n",
       "        vertical-align: middle;\n",
       "    }\n",
       "\n",
       "    .dataframe tbody tr th {\n",
       "        vertical-align: top;\n",
       "    }\n",
       "\n",
       "    .dataframe thead th {\n",
       "        text-align: right;\n",
       "    }\n",
       "</style>\n",
       "<table border=\"1\" class=\"dataframe\">\n",
       "  <thead>\n",
       "    <tr style=\"text-align: right;\">\n",
       "      <th></th>\n",
       "      <th>PatientId</th>\n",
       "      <th>AppointmentID</th>\n",
       "      <th>Gender</th>\n",
       "      <th>ScheduledDay</th>\n",
       "      <th>AppointmentDay</th>\n",
       "      <th>Age</th>\n",
       "      <th>Neighbourhood</th>\n",
       "      <th>Scholarship</th>\n",
       "      <th>Hipertension</th>\n",
       "      <th>Diabetes</th>\n",
       "      <th>Alcoholism</th>\n",
       "      <th>Handcap</th>\n",
       "      <th>SMS_received</th>\n",
       "      <th>Gap</th>\n",
       "      <th>Gap.d</th>\n",
       "      <th>No-show</th>\n",
       "    </tr>\n",
       "  </thead>\n",
       "  <tbody>\n",
       "    <tr>\n",
       "      <th>0</th>\n",
       "      <td>2.987250e+13</td>\n",
       "      <td>5642903</td>\n",
       "      <td>F</td>\n",
       "      <td>2016-04-29T18:38:08Z</td>\n",
       "      <td>2016-04-29T00:00:00Z</td>\n",
       "      <td>62</td>\n",
       "      <td>JARDIM DA PENHA</td>\n",
       "      <td>0</td>\n",
       "      <td>1</td>\n",
       "      <td>0</td>\n",
       "      <td>0</td>\n",
       "      <td>0</td>\n",
       "      <td>0</td>\n",
       "      <td>-1 days +05:21:52</td>\n",
       "      <td>-1</td>\n",
       "      <td>0</td>\n",
       "    </tr>\n",
       "    <tr>\n",
       "      <th>1</th>\n",
       "      <td>5.589978e+14</td>\n",
       "      <td>5642503</td>\n",
       "      <td>M</td>\n",
       "      <td>2016-04-29T16:08:27Z</td>\n",
       "      <td>2016-04-29T00:00:00Z</td>\n",
       "      <td>56</td>\n",
       "      <td>JARDIM DA PENHA</td>\n",
       "      <td>0</td>\n",
       "      <td>0</td>\n",
       "      <td>0</td>\n",
       "      <td>0</td>\n",
       "      <td>0</td>\n",
       "      <td>0</td>\n",
       "      <td>-1 days +07:51:33</td>\n",
       "      <td>-1</td>\n",
       "      <td>0</td>\n",
       "    </tr>\n",
       "    <tr>\n",
       "      <th>2</th>\n",
       "      <td>4.262962e+12</td>\n",
       "      <td>5642549</td>\n",
       "      <td>F</td>\n",
       "      <td>2016-04-29T16:19:04Z</td>\n",
       "      <td>2016-04-29T00:00:00Z</td>\n",
       "      <td>62</td>\n",
       "      <td>MATA DA PRAIA</td>\n",
       "      <td>0</td>\n",
       "      <td>0</td>\n",
       "      <td>0</td>\n",
       "      <td>0</td>\n",
       "      <td>0</td>\n",
       "      <td>0</td>\n",
       "      <td>-1 days +07:40:56</td>\n",
       "      <td>-1</td>\n",
       "      <td>0</td>\n",
       "    </tr>\n",
       "    <tr>\n",
       "      <th>3</th>\n",
       "      <td>8.679512e+11</td>\n",
       "      <td>5642828</td>\n",
       "      <td>F</td>\n",
       "      <td>2016-04-29T17:29:31Z</td>\n",
       "      <td>2016-04-29T00:00:00Z</td>\n",
       "      <td>8</td>\n",
       "      <td>PONTAL DE CAMBURI</td>\n",
       "      <td>0</td>\n",
       "      <td>0</td>\n",
       "      <td>0</td>\n",
       "      <td>0</td>\n",
       "      <td>0</td>\n",
       "      <td>0</td>\n",
       "      <td>-1 days +06:30:29</td>\n",
       "      <td>-1</td>\n",
       "      <td>0</td>\n",
       "    </tr>\n",
       "    <tr>\n",
       "      <th>4</th>\n",
       "      <td>8.841186e+12</td>\n",
       "      <td>5642494</td>\n",
       "      <td>F</td>\n",
       "      <td>2016-04-29T16:07:23Z</td>\n",
       "      <td>2016-04-29T00:00:00Z</td>\n",
       "      <td>56</td>\n",
       "      <td>JARDIM DA PENHA</td>\n",
       "      <td>0</td>\n",
       "      <td>1</td>\n",
       "      <td>1</td>\n",
       "      <td>0</td>\n",
       "      <td>0</td>\n",
       "      <td>0</td>\n",
       "      <td>-1 days +07:52:37</td>\n",
       "      <td>-1</td>\n",
       "      <td>0</td>\n",
       "    </tr>\n",
       "  </tbody>\n",
       "</table>\n",
       "</div>"
      ],
      "text/plain": [
       "      PatientId  AppointmentID Gender          ScheduledDay  \\\n",
       "0  2.987250e+13        5642903      F  2016-04-29T18:38:08Z   \n",
       "1  5.589978e+14        5642503      M  2016-04-29T16:08:27Z   \n",
       "2  4.262962e+12        5642549      F  2016-04-29T16:19:04Z   \n",
       "3  8.679512e+11        5642828      F  2016-04-29T17:29:31Z   \n",
       "4  8.841186e+12        5642494      F  2016-04-29T16:07:23Z   \n",
       "\n",
       "         AppointmentDay  Age      Neighbourhood  Scholarship  Hipertension  \\\n",
       "0  2016-04-29T00:00:00Z   62    JARDIM DA PENHA            0             1   \n",
       "1  2016-04-29T00:00:00Z   56    JARDIM DA PENHA            0             0   \n",
       "2  2016-04-29T00:00:00Z   62      MATA DA PRAIA            0             0   \n",
       "3  2016-04-29T00:00:00Z    8  PONTAL DE CAMBURI            0             0   \n",
       "4  2016-04-29T00:00:00Z   56    JARDIM DA PENHA            0             1   \n",
       "\n",
       "   Diabetes  Alcoholism  Handcap  SMS_received                Gap  Gap.d  \\\n",
       "0         0           0        0             0  -1 days +05:21:52     -1   \n",
       "1         0           0        0             0  -1 days +07:51:33     -1   \n",
       "2         0           0        0             0  -1 days +07:40:56     -1   \n",
       "3         0           0        0             0  -1 days +06:30:29     -1   \n",
       "4         1           0        0             0  -1 days +07:52:37     -1   \n",
       "\n",
       "   No-show  \n",
       "0        0  \n",
       "1        0  \n",
       "2        0  \n",
       "3        0  \n",
       "4        0  "
      ]
     },
     "execution_count": 9,
     "metadata": {},
     "output_type": "execute_result"
    }
   ],
   "source": [
    "data.loc[data['Gap.d'] == -1].head()"
   ]
  },
  {
   "cell_type": "markdown",
   "metadata": {},
   "source": [
    "When the number of days in the gap is $-1$ then it looks like the appointment was scheduled on the same day. "
   ]
  },
  {
   "cell_type": "code",
   "execution_count": 10,
   "metadata": {},
   "outputs": [
    {
     "data": {
      "text/html": [
       "<div>\n",
       "<style scoped>\n",
       "    .dataframe tbody tr th:only-of-type {\n",
       "        vertical-align: middle;\n",
       "    }\n",
       "\n",
       "    .dataframe tbody tr th {\n",
       "        vertical-align: top;\n",
       "    }\n",
       "\n",
       "    .dataframe thead th {\n",
       "        text-align: right;\n",
       "    }\n",
       "</style>\n",
       "<table border=\"1\" class=\"dataframe\">\n",
       "  <thead>\n",
       "    <tr style=\"text-align: right;\">\n",
       "      <th></th>\n",
       "      <th>PatientId</th>\n",
       "      <th>AppointmentID</th>\n",
       "      <th>Gender</th>\n",
       "      <th>ScheduledDay</th>\n",
       "      <th>AppointmentDay</th>\n",
       "      <th>Age</th>\n",
       "      <th>Neighbourhood</th>\n",
       "      <th>Scholarship</th>\n",
       "      <th>Hipertension</th>\n",
       "      <th>Diabetes</th>\n",
       "      <th>Alcoholism</th>\n",
       "      <th>Handcap</th>\n",
       "      <th>SMS_received</th>\n",
       "      <th>Gap</th>\n",
       "      <th>Gap.d</th>\n",
       "      <th>No-show</th>\n",
       "    </tr>\n",
       "  </thead>\n",
       "  <tbody>\n",
       "    <tr>\n",
       "      <th>27033</th>\n",
       "      <td>7.839273e+12</td>\n",
       "      <td>5679978</td>\n",
       "      <td>M</td>\n",
       "      <td>2016-05-10T10:51:53Z</td>\n",
       "      <td>2016-05-09T00:00:00Z</td>\n",
       "      <td>38</td>\n",
       "      <td>RESISTÊNCIA</td>\n",
       "      <td>0</td>\n",
       "      <td>0</td>\n",
       "      <td>0</td>\n",
       "      <td>0</td>\n",
       "      <td>1</td>\n",
       "      <td>0</td>\n",
       "      <td>-2 days +13:08:07</td>\n",
       "      <td>-2</td>\n",
       "      <td>1</td>\n",
       "    </tr>\n",
       "    <tr>\n",
       "      <th>55226</th>\n",
       "      <td>7.896294e+12</td>\n",
       "      <td>5715660</td>\n",
       "      <td>F</td>\n",
       "      <td>2016-05-18T14:50:41Z</td>\n",
       "      <td>2016-05-17T00:00:00Z</td>\n",
       "      <td>19</td>\n",
       "      <td>SANTO ANTÔNIO</td>\n",
       "      <td>0</td>\n",
       "      <td>0</td>\n",
       "      <td>0</td>\n",
       "      <td>0</td>\n",
       "      <td>1</td>\n",
       "      <td>0</td>\n",
       "      <td>-2 days +09:09:19</td>\n",
       "      <td>-2</td>\n",
       "      <td>1</td>\n",
       "    </tr>\n",
       "    <tr>\n",
       "      <th>64175</th>\n",
       "      <td>2.425226e+13</td>\n",
       "      <td>5664962</td>\n",
       "      <td>F</td>\n",
       "      <td>2016-05-05T13:43:58Z</td>\n",
       "      <td>2016-05-04T00:00:00Z</td>\n",
       "      <td>22</td>\n",
       "      <td>CONSOLAÇÃO</td>\n",
       "      <td>0</td>\n",
       "      <td>0</td>\n",
       "      <td>0</td>\n",
       "      <td>0</td>\n",
       "      <td>0</td>\n",
       "      <td>0</td>\n",
       "      <td>-2 days +10:16:02</td>\n",
       "      <td>-2</td>\n",
       "      <td>1</td>\n",
       "    </tr>\n",
       "    <tr>\n",
       "      <th>71533</th>\n",
       "      <td>9.982316e+14</td>\n",
       "      <td>5686628</td>\n",
       "      <td>F</td>\n",
       "      <td>2016-05-11T13:49:20Z</td>\n",
       "      <td>2016-05-05T00:00:00Z</td>\n",
       "      <td>81</td>\n",
       "      <td>SANTO ANTÔNIO</td>\n",
       "      <td>0</td>\n",
       "      <td>0</td>\n",
       "      <td>0</td>\n",
       "      <td>0</td>\n",
       "      <td>0</td>\n",
       "      <td>0</td>\n",
       "      <td>-7 days +10:10:40</td>\n",
       "      <td>-7</td>\n",
       "      <td>1</td>\n",
       "    </tr>\n",
       "    <tr>\n",
       "      <th>72362</th>\n",
       "      <td>3.787482e+12</td>\n",
       "      <td>5655637</td>\n",
       "      <td>M</td>\n",
       "      <td>2016-05-04T06:50:57Z</td>\n",
       "      <td>2016-05-03T00:00:00Z</td>\n",
       "      <td>7</td>\n",
       "      <td>TABUAZEIRO</td>\n",
       "      <td>0</td>\n",
       "      <td>0</td>\n",
       "      <td>0</td>\n",
       "      <td>0</td>\n",
       "      <td>0</td>\n",
       "      <td>0</td>\n",
       "      <td>-2 days +17:09:03</td>\n",
       "      <td>-2</td>\n",
       "      <td>1</td>\n",
       "    </tr>\n",
       "  </tbody>\n",
       "</table>\n",
       "</div>"
      ],
      "text/plain": [
       "          PatientId  AppointmentID Gender          ScheduledDay  \\\n",
       "27033  7.839273e+12        5679978      M  2016-05-10T10:51:53Z   \n",
       "55226  7.896294e+12        5715660      F  2016-05-18T14:50:41Z   \n",
       "64175  2.425226e+13        5664962      F  2016-05-05T13:43:58Z   \n",
       "71533  9.982316e+14        5686628      F  2016-05-11T13:49:20Z   \n",
       "72362  3.787482e+12        5655637      M  2016-05-04T06:50:57Z   \n",
       "\n",
       "             AppointmentDay  Age  Neighbourhood  Scholarship  Hipertension  \\\n",
       "27033  2016-05-09T00:00:00Z   38    RESISTÊNCIA            0             0   \n",
       "55226  2016-05-17T00:00:00Z   19  SANTO ANTÔNIO            0             0   \n",
       "64175  2016-05-04T00:00:00Z   22     CONSOLAÇÃO            0             0   \n",
       "71533  2016-05-05T00:00:00Z   81  SANTO ANTÔNIO            0             0   \n",
       "72362  2016-05-03T00:00:00Z    7     TABUAZEIRO            0             0   \n",
       "\n",
       "       Diabetes  Alcoholism  Handcap  SMS_received                Gap  Gap.d  \\\n",
       "27033         0           0        1             0  -2 days +13:08:07     -2   \n",
       "55226         0           0        1             0  -2 days +09:09:19     -2   \n",
       "64175         0           0        0             0  -2 days +10:16:02     -2   \n",
       "71533         0           0        0             0  -7 days +10:10:40     -7   \n",
       "72362         0           0        0             0  -2 days +17:09:03     -2   \n",
       "\n",
       "       No-show  \n",
       "27033        1  \n",
       "55226        1  \n",
       "64175        1  \n",
       "71533        1  \n",
       "72362        1  "
      ]
     },
     "execution_count": 10,
     "metadata": {},
     "output_type": "execute_result"
    }
   ],
   "source": [
    "data.loc[data['Gap.d'] < -1]"
   ]
  },
  {
   "cell_type": "markdown",
   "metadata": {},
   "source": [
    "A gap less than $-1$ is perhaps an indication of bad data. For the moment, I will not remove these observations."
   ]
  },
  {
   "cell_type": "code",
   "execution_count": 46,
   "metadata": {},
   "outputs": [
    {
     "name": "stdout",
     "output_type": "stream",
     "text": [
      "Reject the null hypothesis that the groups are same.\n"
     ]
    },
    {
     "data": {
      "text/plain": [
       "0.0"
      ]
     },
     "execution_count": 46,
     "metadata": {},
     "output_type": "execute_result"
    }
   ],
   "source": [
    "run_chi_sq('Gap.d', 'No-show', print_results=False)"
   ]
  },
  {
   "cell_type": "code",
   "execution_count": 26,
   "metadata": {},
   "outputs": [
    {
     "data": {
      "text/html": [
       "<div>\n",
       "<style scoped>\n",
       "    .dataframe tbody tr th:only-of-type {\n",
       "        vertical-align: middle;\n",
       "    }\n",
       "\n",
       "    .dataframe tbody tr th {\n",
       "        vertical-align: top;\n",
       "    }\n",
       "\n",
       "    .dataframe thead th {\n",
       "        text-align: right;\n",
       "    }\n",
       "</style>\n",
       "<table border=\"1\" class=\"dataframe\">\n",
       "  <thead>\n",
       "    <tr style=\"text-align: right;\">\n",
       "      <th>No-show</th>\n",
       "      <th>0</th>\n",
       "      <th>1</th>\n",
       "    </tr>\n",
       "    <tr>\n",
       "      <th>Gap.d</th>\n",
       "      <th></th>\n",
       "      <th></th>\n",
       "    </tr>\n",
       "  </thead>\n",
       "  <tbody>\n",
       "    <tr>\n",
       "      <th>1</th>\n",
       "      <td>0.761784</td>\n",
       "      <td>0.238216</td>\n",
       "    </tr>\n",
       "    <tr>\n",
       "      <th>2</th>\n",
       "      <td>0.764706</td>\n",
       "      <td>0.235294</td>\n",
       "    </tr>\n",
       "    <tr>\n",
       "      <th>3</th>\n",
       "      <td>0.767297</td>\n",
       "      <td>0.232703</td>\n",
       "    </tr>\n",
       "    <tr>\n",
       "      <th>4</th>\n",
       "      <td>0.733903</td>\n",
       "      <td>0.266097</td>\n",
       "    </tr>\n",
       "    <tr>\n",
       "      <th>5</th>\n",
       "      <td>0.752044</td>\n",
       "      <td>0.247956</td>\n",
       "    </tr>\n",
       "    <tr>\n",
       "      <th>6</th>\n",
       "      <td>0.733184</td>\n",
       "      <td>0.266816</td>\n",
       "    </tr>\n",
       "    <tr>\n",
       "      <th>7</th>\n",
       "      <td>0.712693</td>\n",
       "      <td>0.287307</td>\n",
       "    </tr>\n",
       "    <tr>\n",
       "      <th>8</th>\n",
       "      <td>0.725857</td>\n",
       "      <td>0.274143</td>\n",
       "    </tr>\n",
       "    <tr>\n",
       "      <th>9</th>\n",
       "      <td>0.683681</td>\n",
       "      <td>0.316319</td>\n",
       "    </tr>\n",
       "    <tr>\n",
       "      <th>10</th>\n",
       "      <td>0.683891</td>\n",
       "      <td>0.316109</td>\n",
       "    </tr>\n",
       "  </tbody>\n",
       "</table>\n",
       "</div>"
      ],
      "text/plain": [
       "No-show         0         1\n",
       "Gap.d                      \n",
       "1        0.761784  0.238216\n",
       "2        0.764706  0.235294\n",
       "3        0.767297  0.232703\n",
       "4        0.733903  0.266097\n",
       "5        0.752044  0.247956\n",
       "6        0.733184  0.266816\n",
       "7        0.712693  0.287307\n",
       "8        0.725857  0.274143\n",
       "9        0.683681  0.316319\n",
       "10       0.683891  0.316109"
      ]
     },
     "execution_count": 26,
     "metadata": {},
     "output_type": "execute_result"
    }
   ],
   "source": [
    "ct = pd.crosstab(data['Gap.d'], data['No-show']).apply(lambda r: r/r.sum(), axis=1)\n",
    "ct[ct.index.isin([1, 2, 3, 4, 5, 6, 7, 8, 9, 10])]"
   ]
  },
  {
   "cell_type": "code",
   "execution_count": 29,
   "metadata": {},
   "outputs": [],
   "source": [
    "ct['Excess-no-show'] = ct[0] <= ct[1]"
   ]
  },
  {
   "cell_type": "code",
   "execution_count": 30,
   "metadata": {},
   "outputs": [
    {
     "data": {
      "text/html": [
       "<div>\n",
       "<style scoped>\n",
       "    .dataframe tbody tr th:only-of-type {\n",
       "        vertical-align: middle;\n",
       "    }\n",
       "\n",
       "    .dataframe tbody tr th {\n",
       "        vertical-align: top;\n",
       "    }\n",
       "\n",
       "    .dataframe thead th {\n",
       "        text-align: right;\n",
       "    }\n",
       "</style>\n",
       "<table border=\"1\" class=\"dataframe\">\n",
       "  <thead>\n",
       "    <tr style=\"text-align: right;\">\n",
       "      <th>No-show</th>\n",
       "      <th>0</th>\n",
       "      <th>1</th>\n",
       "      <th>Excess-no-show</th>\n",
       "    </tr>\n",
       "    <tr>\n",
       "      <th>Gap.d</th>\n",
       "      <th></th>\n",
       "      <th></th>\n",
       "      <th></th>\n",
       "    </tr>\n",
       "  </thead>\n",
       "  <tbody>\n",
       "    <tr>\n",
       "      <th>-7</th>\n",
       "      <td>0.00</td>\n",
       "      <td>1.00</td>\n",
       "      <td>True</td>\n",
       "    </tr>\n",
       "    <tr>\n",
       "      <th>-2</th>\n",
       "      <td>0.00</td>\n",
       "      <td>1.00</td>\n",
       "      <td>True</td>\n",
       "    </tr>\n",
       "    <tr>\n",
       "      <th>102</th>\n",
       "      <td>0.40</td>\n",
       "      <td>0.60</td>\n",
       "      <td>True</td>\n",
       "    </tr>\n",
       "    <tr>\n",
       "      <th>103</th>\n",
       "      <td>0.25</td>\n",
       "      <td>0.75</td>\n",
       "      <td>True</td>\n",
       "    </tr>\n",
       "    <tr>\n",
       "      <th>109</th>\n",
       "      <td>0.50</td>\n",
       "      <td>0.50</td>\n",
       "      <td>True</td>\n",
       "    </tr>\n",
       "    <tr>\n",
       "      <th>125</th>\n",
       "      <td>0.00</td>\n",
       "      <td>1.00</td>\n",
       "      <td>True</td>\n",
       "    </tr>\n",
       "    <tr>\n",
       "      <th>131</th>\n",
       "      <td>0.00</td>\n",
       "      <td>1.00</td>\n",
       "      <td>True</td>\n",
       "    </tr>\n",
       "    <tr>\n",
       "      <th>138</th>\n",
       "      <td>0.00</td>\n",
       "      <td>1.00</td>\n",
       "      <td>True</td>\n",
       "    </tr>\n",
       "    <tr>\n",
       "      <th>145</th>\n",
       "      <td>0.00</td>\n",
       "      <td>1.00</td>\n",
       "      <td>True</td>\n",
       "    </tr>\n",
       "    <tr>\n",
       "      <th>150</th>\n",
       "      <td>0.00</td>\n",
       "      <td>1.00</td>\n",
       "      <td>True</td>\n",
       "    </tr>\n",
       "    <tr>\n",
       "      <th>154</th>\n",
       "      <td>0.40</td>\n",
       "      <td>0.60</td>\n",
       "      <td>True</td>\n",
       "    </tr>\n",
       "  </tbody>\n",
       "</table>\n",
       "</div>"
      ],
      "text/plain": [
       "No-show     0     1  Excess-no-show\n",
       "Gap.d                              \n",
       "-7       0.00  1.00            True\n",
       "-2       0.00  1.00            True\n",
       " 102     0.40  0.60            True\n",
       " 103     0.25  0.75            True\n",
       " 109     0.50  0.50            True\n",
       " 125     0.00  1.00            True\n",
       " 131     0.00  1.00            True\n",
       " 138     0.00  1.00            True\n",
       " 145     0.00  1.00            True\n",
       " 150     0.00  1.00            True\n",
       " 154     0.40  0.60            True"
      ]
     },
     "execution_count": 30,
     "metadata": {},
     "output_type": "execute_result"
    }
   ],
   "source": [
    "ct.loc[ct['Excess-no-show'] == True]"
   ]
  },
  {
   "cell_type": "code",
   "execution_count": 19,
   "metadata": {},
   "outputs": [
    {
     "data": {
      "image/png": "[encoded data removed]",
      "text/plain": [
       "<Figure size 432x288 with 2 Axes>"
      ]
     },
     "metadata": {
      "needs_background": "light"
     },
     "output_type": "display_data"
    }
   ],
   "source": [
    "g = data.groupby('No-show')\n",
    "fig, axes = plt.subplots(1, len(g), sharex = True, sharey = True)\n",
    "axes = axes.flatten()\n",
    "for i, (cat, group) in enumerate(g): \n",
    "    axes[i].set_title(f\"No-show = {cat}\")\n",
    "    axes[i].hist(group[\"Gap.d\"], density=True)\n",
    "    axes[i].set_xlabel('Gap.d')\n"
   ]
  },
  {
   "cell_type": "markdown",
   "metadata": {},
   "source": [
    "The histograms indicate that:\n",
    "(1) Among the <code>No-show == False</code> shorter gaps tend to be very common.\n",
    "(2) Among the <code>No-show == True</code> longer gaps are not uncommon."
   ]
  },
  {
   "cell_type": "markdown",
   "metadata": {},
   "source": [
    "Going by the $\\chi^2$ test, we should retain the <code>Gap.d</code> variable."
   ]
  },
  {
   "cell_type": "markdown",
   "metadata": {},
   "source": [
    "## Does patient id help us guess if the appointment is not going to be kept?"
   ]
  },
  {
   "cell_type": "code",
   "execution_count": 47,
   "metadata": {},
   "outputs": [
    {
     "name": "stdout",
     "output_type": "stream",
     "text": [
      "# unique patients = 60270\n"
     ]
    }
   ],
   "source": [
    "n_uniq_pat = len(data['PatientId'].unique())\n",
    "print(f'# unique patients = {n_uniq_pat}')"
   ]
  },
  {
   "cell_type": "code",
   "execution_count": 48,
   "metadata": {},
   "outputs": [
    {
     "name": "stdout",
     "output_type": "stream",
     "text": [
      "On an average, a patient has 1.775 appointments\n"
     ]
    }
   ],
   "source": [
    "avg_appointments = data.shape[0]/n_uniq_pat\n",
    "print(f'On an average, a patient has {round(avg_appointments, 3)} appointments')"
   ]
  },
  {
   "cell_type": "code",
   "execution_count": 49,
   "metadata": {},
   "outputs": [
    {
     "data": {
      "text/plain": [
       "array([[<AxesSubplot:title={'center':'AppointmentID'}>]], dtype=object)"
      ]
     },
     "execution_count": 49,
     "metadata": {},
     "output_type": "execute_result"
    },
    {
     "data": {
      "image/png": "[encoded data removed]",
      "text/plain": [
       "<Figure size 432x288 with 1 Axes>"
      ]
     },
     "metadata": {
      "needs_background": "light"
     },
     "output_type": "display_data"
    }
   ],
   "source": [
    "class_boundaries = [0, 2, 4, 6, 8, 10, 20, 30, 40, 50, 60, 70, 80, 90, 100]\n",
    "data[['PatientId', 'AppointmentID']].groupby('PatientId').count().hist(bins = class_boundaries)"
   ]
  },
  {
   "cell_type": "code",
   "execution_count": 50,
   "metadata": {},
   "outputs": [
    {
     "name": "stdout",
     "output_type": "stream",
     "text": [
      "Reject the null hypothesis that the groups are same.\n"
     ]
    },
    {
     "data": {
      "text/plain": [
       "9.649216102948478e-49"
      ]
     },
     "execution_count": 50,
     "metadata": {},
     "output_type": "execute_result"
    }
   ],
   "source": [
    "run_chi_sq('PatientId', 'No-show', significance=0.05, print_results=False)"
   ]
  },
  {
   "cell_type": "markdown",
   "metadata": {},
   "source": [
    "$\\chi^2$-test suggests that <code>PatientId</code> might be a significant variable."
   ]
  },
  {
   "cell_type": "markdown",
   "metadata": {},
   "source": [
    "## Conclusions\n",
    "Variables that can determine the outcome are:\n",
    "* <code>PatientId</code>\n",
    "* <code>Age</code>\n",
    "* <code>Neighbourhood</code>\n",
    "* <code>Scholarship</code>\n",
    "* <code>Hipertension</code>\n",
    "* <code>Diabetes</code>\n",
    "* <code>SMS_received</code>\n",
    "* <code>Gap.d</code>\n",
    "\n",
    "Among these variables, <code>Neighbourhood, Scholarship, Hipertension, Diabetes, Age</code> are a function of <code>PatientId</code>. Therefore, one should not include both of these together. Yet, <code>PatientId</code> is \n",
    "a synthetic identifier. It is not a 'natural' characteristic of a patient like <code>Neighbourhood, Scholarship, Hipertension, Diabetes</code> and <code>Age</code> are."
   ]
  }
 ],
 "metadata": {
  "kernelspec": {
   "display_name": "Python 3",
   "language": "python",
   "name": "python3"
  },
  "language_info": {
   "codemirror_mode": {
    "name": "ipython",
    "version": 3
   },
   "file_extension": ".py",
   "mimetype": "text/x-python",
   "name": "python",
   "nbconvert_exporter": "python",
   "pygments_lexer": "ipython3",
   "version": "3.8.5"
  }
 },
 "nbformat": 4,
 "nbformat_minor": 4
}
