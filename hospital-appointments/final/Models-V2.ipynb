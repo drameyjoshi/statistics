{
 "cells": [
  {
   "cell_type": "code",
   "execution_count": 69,
   "metadata": {},
   "outputs": [],
   "source": [
    "import pandas as pd\n",
    "import numpy as np\n",
    "import matplotlib.pyplot as plt\n",
    "\n",
    "from sklearn.linear_model import LogisticRegression\n",
    "from sklearn.preprocessing import StandardScaler\n",
    "from sklearn.model_selection import RandomizedSearchCV, train_test_split, KFold \n",
    "from sklearn.metrics import roc_curve, classification_report, confusion_matrix\n",
    "from sklearn.metrics import precision_score, accuracy_score, recall_score\n",
    "from sklearn.metrics import precision_recall_curve, f1_score, roc_auc_score"
   ]
  },
  {
   "cell_type": "code",
   "execution_count": 70,
   "metadata": {},
   "outputs": [],
   "source": [
    "data = pd.read_csv('model_data.csv')"
   ]
  },
  {
   "cell_type": "code",
   "execution_count": 71,
   "metadata": {},
   "outputs": [],
   "source": [
    "# This choice comes from cross-validation using R's glmnet libraries.\n",
    "var_list = [\"SMS_received\", \"VisitNum\", \"CumNoShow\", \"Age.Grp\", \"Gap.Grp\"] \n",
    "X = data[var_list]"
   ]
  },
  {
   "cell_type": "code",
   "execution_count": 72,
   "metadata": {},
   "outputs": [],
   "source": [
    "y = data['Outcome']"
   ]
  },
  {
   "cell_type": "code",
   "execution_count": 73,
   "metadata": {},
   "outputs": [],
   "source": [
    "X_train, X_test, y_train, y_test = train_test_split(X, y, test_size=0.1, random_state=15081947)\n",
    "X_train, y_train = np.array(X_train), np.array(y_train) \n",
    "kf = KFold(n_splits=13, shuffle=True, random_state = 26011950)"
   ]
  },
  {
   "cell_type": "code",
   "execution_count": 74,
   "metadata": {},
   "outputs": [],
   "source": [
    "accuracy = []\n",
    "recall = []\n",
    "precision = []\n",
    "roc_auc = []\n",
    "coeffs = []\n",
    "intercept = []\n",
    "\n",
    "for train, val in kf.split(X_train, y_train):\n",
    "    X_trainfold, y_trainfold = X_train[train], y_train[train]\n",
    "    X_valfold, y_valfold = X_train[val], y_train[val] \n",
    "    \n",
    "    lr = LogisticRegression(solver='saga', penalty='l1')\n",
    "    \n",
    "    lr.fit(X_trainfold, y_trainfold)\n",
    "    y_predict = lr.predict(X_valfold)\n",
    "    \n",
    "    # Get the model parameters.\n",
    "    coeffs.append(lr.coef_)\n",
    "    intercept.append(lr.intercept_)\n",
    "    # Get the model performance.\n",
    "    accuracy.append(accuracy_score(y_valfold, y_predict))\n",
    "    recall.append(recall_score(y_valfold, y_predict))\n",
    "    precision.append(precision_score(y_valfold, y_predict))\n",
    "    roc_auc.append(roc_auc_score(y_valfold,y_predict))"
   ]
  },
  {
   "cell_type": "code",
   "execution_count": 75,
   "metadata": {},
   "outputs": [
    {
     "name": "stdout",
     "output_type": "stream",
     "text": [
      "Training set accuracy  = 0.9357.\n",
      "Training set recall    = 0.81.\n",
      "Training set precision = 0.8629\n",
      "Training set ROC-AUC   = 0.8887\n"
     ]
    }
   ],
   "source": [
    "print(f'Training set accuracy  = {round(np.mean(accuracy), 4)}.')\n",
    "print(f'Training set recall    = {round(np.mean(recall), 4)}.')\n",
    "print(f'Training set precision = {round(np.mean(precision), 4)}')\n",
    "print(f'Training set ROC-AUC   = {round(np.mean(roc_auc), 4)}')"
   ]
  },
  {
   "cell_type": "code",
   "execution_count": 76,
   "metadata": {},
   "outputs": [
    {
     "name": "stdout",
     "output_type": "stream",
     "text": [
      "['SMS_received', 'VisitNum', 'CumNoShow', 'Age.Grp', 'Gap.Grp']\n",
      "Model coefficients = [[ 0.3345824  -1.33860047  4.34529029 -0.03214357  0.31404746]]\n"
     ]
    }
   ],
   "source": [
    "print(var_list)\n",
    "print(f'Model coefficients = {np.mean(coeffs, axis=0)}')"
   ]
  },
  {
   "cell_type": "markdown",
   "metadata": {},
   "source": [
    "Recall that <code>No-show == 1</code> means that the patient misses an appointment. The model predicts the probability of this event.\n",
    "\n",
    "Chances of a patient missing an appointment increase with <code>CumNoShow, Gap.Grp</code>, they improve with <code>VisitNum</code> and <code>Age.Grp</code>. <code>CumNoShow</code> and <code>Gap.Grp</code> are the strongest predictor of a person not showing up. On the other hand, a patient tends **not** to miss an appointment if he/she has visited the hospital several times before. Older patients too tend not to miss an appointment."
   ]
  },
  {
   "cell_type": "code",
   "execution_count": 77,
   "metadata": {},
   "outputs": [
    {
     "name": "stdout",
     "output_type": "stream",
     "text": [
      "Model intercept = [-1.45611994]\n"
     ]
    }
   ],
   "source": [
    "print(f'Model intercept = {np.mean(intercept, axis=0)}')"
   ]
  },
  {
   "cell_type": "code",
   "execution_count": 78,
   "metadata": {},
   "outputs": [],
   "source": [
    "y_predict = lr.predict(X_test)"
   ]
  },
  {
   "cell_type": "code",
   "execution_count": 79,
   "metadata": {},
   "outputs": [
    {
     "name": "stdout",
     "output_type": "stream",
     "text": [
      "Test set accuracy  = 0.9348\n",
      "Test set recall    = 0.8181\n",
      "Test set precision = 0.8564\n",
      "Test set ROC-AUC   = 0.8914\n"
     ]
    }
   ],
   "source": [
    "print(f'Test set accuracy  = {round(accuracy_score(y_test, y_predict), 4)}')\n",
    "print(f'Test set recall    = {round(recall_score(y_test, y_predict), 4)}')\n",
    "print(f'Test set precision = {round(precision_score(y_test, y_predict), 4)}')\n",
    "print(f'Test set ROC-AUC   = {round(roc_auc_score(y_test,y_predict), 4)}')"
   ]
  },
  {
   "cell_type": "code",
   "execution_count": 80,
   "metadata": {},
   "outputs": [
    {
     "data": {
      "text/html": [
       "<div>\n",
       "<style scoped>\n",
       "    .dataframe tbody tr th:only-of-type {\n",
       "        vertical-align: middle;\n",
       "    }\n",
       "\n",
       "    .dataframe tbody tr th {\n",
       "        vertical-align: top;\n",
       "    }\n",
       "\n",
       "    .dataframe thead th {\n",
       "        text-align: right;\n",
       "    }\n",
       "</style>\n",
       "<table border=\"1\" class=\"dataframe\">\n",
       "  <thead>\n",
       "    <tr style=\"text-align: right;\">\n",
       "      <th></th>\n",
       "      <th>0</th>\n",
       "      <th>1</th>\n",
       "    </tr>\n",
       "  </thead>\n",
       "  <tbody>\n",
       "    <tr>\n",
       "      <th>0</th>\n",
       "      <td>8483</td>\n",
       "      <td>411</td>\n",
       "    </tr>\n",
       "    <tr>\n",
       "      <th>1</th>\n",
       "      <td>310</td>\n",
       "      <td>1849</td>\n",
       "    </tr>\n",
       "  </tbody>\n",
       "</table>\n",
       "</div>"
      ],
      "text/plain": [
       "      0     1\n",
       "0  8483   411\n",
       "1   310  1849"
      ]
     },
     "execution_count": 80,
     "metadata": {},
     "output_type": "execute_result"
    }
   ],
   "source": [
    "labels = np.unique(y_test)\n",
    "cm = pd.DataFrame(confusion_matrix(y_predict, y_test), index=labels, columns=labels)\n",
    "cm # Prediction along y-axis, actual along x-axis"
   ]
  }
 ],
 "metadata": {
  "kernelspec": {
   "display_name": "Python 3",
   "language": "python",
   "name": "python3"
  },
  "language_info": {
   "codemirror_mode": {
    "name": "ipython",
    "version": 3
   },
   "file_extension": ".py",
   "mimetype": "text/x-python",
   "name": "python",
   "nbconvert_exporter": "python",
   "pygments_lexer": "ipython3",
   "version": "3.8.5"
  }
 },
 "nbformat": 4,
 "nbformat_minor": 4
}
